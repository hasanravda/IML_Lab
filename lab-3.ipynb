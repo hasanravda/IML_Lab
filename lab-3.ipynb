{
 "cells": [
  {
   "cell_type": "markdown",
   "id": "780ca4c2",
   "metadata": {
    "_cell_guid": "b1076dfc-b9ad-4769-8c92-a6c4dae69d19",
    "_uuid": "8f2839f25d086af736a60e9eeb907d3b93b6e0e5",
    "papermill": {
     "duration": 0.00513,
     "end_time": "2023-09-03T18:33:53.758382",
     "exception": false,
     "start_time": "2023-09-03T18:33:53.753252",
     "status": "completed"
    },
    "tags": []
   },
   "source": [
    "Write a NumPy program to implement following operation\n",
    "\n"
   ]
  },
  {
   "cell_type": "code",
   "execution_count": 1,
   "id": "825fcde9",
   "metadata": {
    "execution": {
     "iopub.execute_input": "2023-09-03T18:33:53.769545Z",
     "iopub.status.busy": "2023-09-03T18:33:53.768742Z",
     "iopub.status.idle": "2023-09-03T18:33:53.781214Z",
     "shell.execute_reply": "2023-09-03T18:33:53.779969Z"
    },
    "papermill": {
     "duration": 0.020974,
     "end_time": "2023-09-03T18:33:53.784024",
     "exception": false,
     "start_time": "2023-09-03T18:33:53.763050",
     "status": "completed"
    },
    "tags": []
   },
   "outputs": [],
   "source": [
    "import numpy as np"
   ]
  },
  {
   "cell_type": "markdown",
   "id": "01ebc662",
   "metadata": {
    "papermill": {
     "duration": 0.004041,
     "end_time": "2023-09-03T18:33:53.792529",
     "exception": false,
     "start_time": "2023-09-03T18:33:53.788488",
     "status": "completed"
    },
    "tags": []
   },
   "source": [
    "1.to split an array of 14 elements into 3 arrays, each with 2, 4, and 8 elements in the original order"
   ]
  },
  {
   "cell_type": "code",
   "execution_count": 2,
   "id": "e50c2a55",
   "metadata": {
    "execution": {
     "iopub.execute_input": "2023-09-03T18:33:53.802787Z",
     "iopub.status.busy": "2023-09-03T18:33:53.802403Z",
     "iopub.status.idle": "2023-09-03T18:33:53.810738Z",
     "shell.execute_reply": "2023-09-03T18:33:53.809555Z"
    },
    "papermill": {
     "duration": 0.01748,
     "end_time": "2023-09-03T18:33:53.814098",
     "exception": false,
     "start_time": "2023-09-03T18:33:53.796618",
     "status": "completed"
    },
    "tags": []
   },
   "outputs": [
    {
     "name": "stdout",
     "output_type": "stream",
     "text": [
      "[ 1  2  3  4  5  6  7  8  9 10 11 12 13 14]\n",
      "[1 2] [3 4 5 6] [ 7  8  9 10 11 12 13 14]\n"
     ]
    }
   ],
   "source": [
    "arr=np.arange(1,15)\n",
    "print(arr)\n",
    "\n",
    "a1,a2,a3=np.split(arr,[2,6])\n",
    "print(a1,a2,a3)"
   ]
  },
  {
   "cell_type": "markdown",
   "id": "743e6a38",
   "metadata": {
    "papermill": {
     "duration": 0.004305,
     "end_time": "2023-09-03T18:33:53.823077",
     "exception": false,
     "start_time": "2023-09-03T18:33:53.818772",
     "status": "completed"
    },
    "tags": []
   },
   "source": [
    "2. to stack arrays horizontally (column wise)"
   ]
  },
  {
   "cell_type": "code",
   "execution_count": 3,
   "id": "e6e92df9",
   "metadata": {
    "execution": {
     "iopub.execute_input": "2023-09-03T18:33:53.834128Z",
     "iopub.status.busy": "2023-09-03T18:33:53.833544Z",
     "iopub.status.idle": "2023-09-03T18:33:53.842386Z",
     "shell.execute_reply": "2023-09-03T18:33:53.841286Z"
    },
    "papermill": {
     "duration": 0.017176,
     "end_time": "2023-09-03T18:33:53.844747",
     "exception": false,
     "start_time": "2023-09-03T18:33:53.827571",
     "status": "completed"
    },
    "tags": []
   },
   "outputs": [
    {
     "data": {
      "text/plain": [
       "array([[ 1,  2,  3,  4,  5,  6],\n",
       "       [ 7,  8,  9, 10, 11, 12]])"
      ]
     },
     "execution_count": 3,
     "metadata": {},
     "output_type": "execute_result"
    }
   ],
   "source": [
    "arr1=np.array([[1,2,3],\n",
    "               [7,8,9]])\n",
    "arr2=np.array([[4,5,6],\n",
    "               [10,11,12]])\n",
    "\n",
    "out_arr=np.hstack((arr1,arr2))\n",
    "out_arr"
   ]
  }
 ],
 "kernelspec": {
  "display_name": "Python 3",
  "language": "python",
  "name": "python3"
 },
 "language_info": {
  "codemirror_mode": {
   "name": "ipython",
   "version": 3
  },
  "file_extension": ".py",
  "mimetype": "text/x-python",
  "name": "python",
  "nbconvert_exporter": "python",
  "pygments_lexer": "ipython3",
  "version": "3.6.4"
 },
 "metadata": {
  "kernelspec": {
   "display_name": "Python 3",
   "language": "python",
   "name": "python3"
  },
  "language_info": {
   "codemirror_mode": {
    "name": "ipython",
    "version": 3
   },
   "file_extension": ".py",
   "mimetype": "text/x-python",
   "name": "python",
   "nbconvert_exporter": "python",
   "pygments_lexer": "ipython3",
   "version": "3.10.12"
  },
  "papermill": {
   "default_parameters": {},
   "duration": 4.003639,
   "end_time": "2023-09-03T18:33:54.169476",
   "environment_variables": {},
   "exception": null,
   "input_path": "__notebook__.ipynb",
   "output_path": "__notebook__.ipynb",
   "parameters": {},
   "start_time": "2023-09-03T18:33:50.165837",
   "version": "2.4.0"
  }
 },
 "nbformat": 4,
 "nbformat_minor": 5
}
