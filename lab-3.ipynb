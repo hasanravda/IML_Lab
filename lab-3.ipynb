{
 "cells": [
  {
   "cell_type": "markdown",
   "id": "b99e752e",
   "metadata": {
    "_cell_guid": "b1076dfc-b9ad-4769-8c92-a6c4dae69d19",
    "_uuid": "8f2839f25d086af736a60e9eeb907d3b93b6e0e5",
    "papermill": {
     "duration": 0.004235,
     "end_time": "2023-09-05T18:08:36.330590",
     "exception": false,
     "start_time": "2023-09-05T18:08:36.326355",
     "status": "completed"
    },
    "tags": []
   },
   "source": [
    "# Lab 3\n",
    "# Hasan [ 216270307028 ]"
   ]
  },
  {
   "cell_type": "markdown",
   "id": "f3a842c8",
   "metadata": {
    "papermill": {
     "duration": 0.00318,
     "end_time": "2023-09-05T18:08:36.337477",
     "exception": false,
     "start_time": "2023-09-05T18:08:36.334297",
     "status": "completed"
    },
    "tags": []
   },
   "source": [
    "Write a NumPy program to implement following operation\n",
    "\n"
   ]
  },
  {
   "cell_type": "code",
   "execution_count": 1,
   "id": "8c9cac4a",
   "metadata": {
    "execution": {
     "iopub.execute_input": "2023-09-05T18:08:36.346062Z",
     "iopub.status.busy": "2023-09-05T18:08:36.345699Z",
     "iopub.status.idle": "2023-09-05T18:08:36.354862Z",
     "shell.execute_reply": "2023-09-05T18:08:36.353850Z"
    },
    "papermill": {
     "duration": 0.016202,
     "end_time": "2023-09-05T18:08:36.357062",
     "exception": false,
     "start_time": "2023-09-05T18:08:36.340860",
     "status": "completed"
    },
    "tags": []
   },
   "outputs": [],
   "source": [
    "import numpy as np"
   ]
  },
  {
   "cell_type": "markdown",
   "id": "714489ff",
   "metadata": {
    "papermill": {
     "duration": 0.003352,
     "end_time": "2023-09-05T18:08:36.363999",
     "exception": false,
     "start_time": "2023-09-05T18:08:36.360647",
     "status": "completed"
    },
    "tags": []
   },
   "source": [
    "1.to split an array of 14 elements into 3 arrays, each with 2, 4, and 8 elements in the original order"
   ]
  },
  {
   "cell_type": "code",
   "execution_count": 2,
   "id": "f487e9b6",
   "metadata": {
    "execution": {
     "iopub.execute_input": "2023-09-05T18:08:36.372640Z",
     "iopub.status.busy": "2023-09-05T18:08:36.372256Z",
     "iopub.status.idle": "2023-09-05T18:08:36.380751Z",
     "shell.execute_reply": "2023-09-05T18:08:36.379564Z"
    },
    "papermill": {
     "duration": 0.015513,
     "end_time": "2023-09-05T18:08:36.382907",
     "exception": false,
     "start_time": "2023-09-05T18:08:36.367394",
     "status": "completed"
    },
    "tags": []
   },
   "outputs": [
    {
     "name": "stdout",
     "output_type": "stream",
     "text": [
      "[ 1  2  3  4  5  6  7  8  9 10 11 12 13 14]\n",
      "[1 2] [3 4 5 6] [ 7  8  9 10 11 12 13 14]\n"
     ]
    }
   ],
   "source": [
    "arr=np.arange(1,15)\n",
    "print(arr)\n",
    "\n",
    "a1,a2,a3=np.split(arr,[2,6])\n",
    "print(a1,a2,a3)"
   ]
  },
  {
   "cell_type": "markdown",
   "id": "c225c6d1",
   "metadata": {
    "papermill": {
     "duration": 0.003287,
     "end_time": "2023-09-05T18:08:36.389834",
     "exception": false,
     "start_time": "2023-09-05T18:08:36.386547",
     "status": "completed"
    },
    "tags": []
   },
   "source": [
    "2. to stack arrays horizontally (column wise)"
   ]
  },
  {
   "cell_type": "code",
   "execution_count": 3,
   "id": "28367bf8",
   "metadata": {
    "execution": {
     "iopub.execute_input": "2023-09-05T18:08:36.398717Z",
     "iopub.status.busy": "2023-09-05T18:08:36.398364Z",
     "iopub.status.idle": "2023-09-05T18:08:36.407379Z",
     "shell.execute_reply": "2023-09-05T18:08:36.406350Z"
    },
    "papermill": {
     "duration": 0.016018,
     "end_time": "2023-09-05T18:08:36.409430",
     "exception": false,
     "start_time": "2023-09-05T18:08:36.393412",
     "status": "completed"
    },
    "tags": []
   },
   "outputs": [
    {
     "data": {
      "text/plain": [
       "array([[ 1,  2,  3,  4,  5,  6],\n",
       "       [ 7,  8,  9, 10, 11, 12]])"
      ]
     },
     "execution_count": 3,
     "metadata": {},
     "output_type": "execute_result"
    }
   ],
   "source": [
    "arr1=np.array([[1,2,3],\n",
    "               [7,8,9]])\n",
    "arr2=np.array([[4,5,6],\n",
    "               [10,11,12]])\n",
    "\n",
    "out_arr=np.hstack((arr1,arr2))\n",
    "out_arr"
   ]
  }
 ],
 "kernelspec": {
  "display_name": "Python 3",
  "language": "python",
  "name": "python3"
 },
 "language_info": {
  "codemirror_mode": {
   "name": "ipython",
   "version": 3
  },
  "file_extension": ".py",
  "mimetype": "text/x-python",
  "name": "python",
  "nbconvert_exporter": "python",
  "pygments_lexer": "ipython3",
  "version": "3.6.4"
 },
 "metadata": {
  "kernelspec": {
   "display_name": "Python 3",
   "language": "python",
   "name": "python3"
  },
  "language_info": {
   "codemirror_mode": {
    "name": "ipython",
    "version": 3
   },
   "file_extension": ".py",
   "mimetype": "text/x-python",
   "name": "python",
   "nbconvert_exporter": "python",
   "pygments_lexer": "ipython3",
   "version": "3.10.12"
  },
  "papermill": {
   "default_parameters": {},
   "duration": 3.580038,
   "end_time": "2023-09-05T18:08:36.732819",
   "environment_variables": {},
   "exception": null,
   "input_path": "__notebook__.ipynb",
   "output_path": "__notebook__.ipynb",
   "parameters": {},
   "start_time": "2023-09-05T18:08:33.152781",
   "version": "2.4.0"
  }
 },
 "nbformat": 4,
 "nbformat_minor": 5
}
