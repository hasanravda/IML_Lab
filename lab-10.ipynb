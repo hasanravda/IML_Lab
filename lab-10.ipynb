{
 "cells": [
  {
   "cell_type": "markdown",
   "id": "5cd881a6",
   "metadata": {
    "_cell_guid": "b1076dfc-b9ad-4769-8c92-a6c4dae69d19",
    "_uuid": "8f2839f25d086af736a60e9eeb907d3b93b6e0e5",
    "papermill": {
     "duration": 0.0049,
     "end_time": "2023-09-10T12:45:03.090283",
     "exception": false,
     "start_time": "2023-09-10T12:45:03.085383",
     "status": "completed"
    },
    "tags": []
   },
   "source": [
    "## Lab \n",
    "### *Hasan Ravda [ 216270307028 ]*"
   ]
  },
  {
   "cell_type": "markdown",
   "id": "ae6944f4",
   "metadata": {
    "papermill": {
     "duration": 0.003976,
     "end_time": "2023-09-10T12:45:03.098898",
     "exception": false,
     "start_time": "2023-09-10T12:45:03.094922",
     "status": "completed"
    },
    "tags": []
   },
   "source": [
    "## Write a Pandas program to implement following operation"
   ]
  },
  {
   "cell_type": "code",
   "execution_count": 1,
   "id": "195d6938",
   "metadata": {
    "execution": {
     "iopub.execute_input": "2023-09-10T12:45:03.109584Z",
     "iopub.status.busy": "2023-09-10T12:45:03.108845Z",
     "iopub.status.idle": "2023-09-10T12:45:03.493336Z",
     "shell.execute_reply": "2023-09-10T12:45:03.492180Z"
    },
    "papermill": {
     "duration": 0.393274,
     "end_time": "2023-09-10T12:45:03.496296",
     "exception": false,
     "start_time": "2023-09-10T12:45:03.103022",
     "status": "completed"
    },
    "tags": []
   },
   "outputs": [],
   "source": [
    "import pandas as pd\n",
    "import numpy as np"
   ]
  },
  {
   "cell_type": "markdown",
   "id": "1ea36560",
   "metadata": {
    "papermill": {
     "duration": 0.003846,
     "end_time": "2023-09-10T12:45:03.504591",
     "exception": false,
     "start_time": "2023-09-10T12:45:03.500745",
     "status": "completed"
    },
    "tags": []
   },
   "source": [
    "### 1. to find and drop the missing values from the given dataset"
   ]
  },
  {
   "cell_type": "code",
   "execution_count": 2,
   "id": "5efd0101",
   "metadata": {
    "execution": {
     "iopub.execute_input": "2023-09-10T12:45:03.515465Z",
     "iopub.status.busy": "2023-09-10T12:45:03.514076Z",
     "iopub.status.idle": "2023-09-10T12:45:03.548632Z",
     "shell.execute_reply": "2023-09-10T12:45:03.547757Z"
    },
    "papermill": {
     "duration": 0.042151,
     "end_time": "2023-09-10T12:45:03.550808",
     "exception": false,
     "start_time": "2023-09-10T12:45:03.508657",
     "status": "completed"
    },
    "tags": []
   },
   "outputs": [
    {
     "data": {
      "text/html": [
       "<div>\n",
       "<style scoped>\n",
       "    .dataframe tbody tr th:only-of-type {\n",
       "        vertical-align: middle;\n",
       "    }\n",
       "\n",
       "    .dataframe tbody tr th {\n",
       "        vertical-align: top;\n",
       "    }\n",
       "\n",
       "    .dataframe thead th {\n",
       "        text-align: right;\n",
       "    }\n",
       "</style>\n",
       "<table border=\"1\" class=\"dataframe\">\n",
       "  <thead>\n",
       "    <tr style=\"text-align: right;\">\n",
       "      <th></th>\n",
       "      <th>Name</th>\n",
       "      <th>Maths</th>\n",
       "      <th>Science</th>\n",
       "    </tr>\n",
       "  </thead>\n",
       "  <tbody>\n",
       "    <tr>\n",
       "      <th>0</th>\n",
       "      <td>A</td>\n",
       "      <td>100.0</td>\n",
       "      <td>30.0</td>\n",
       "    </tr>\n",
       "    <tr>\n",
       "      <th>1</th>\n",
       "      <td>B</td>\n",
       "      <td>90.0</td>\n",
       "      <td>NaN</td>\n",
       "    </tr>\n",
       "    <tr>\n",
       "      <th>2</th>\n",
       "      <td>C</td>\n",
       "      <td>NaN</td>\n",
       "      <td>45.0</td>\n",
       "    </tr>\n",
       "    <tr>\n",
       "      <th>3</th>\n",
       "      <td>D</td>\n",
       "      <td>95.0</td>\n",
       "      <td>56.0</td>\n",
       "    </tr>\n",
       "  </tbody>\n",
       "</table>\n",
       "</div>"
      ],
      "text/plain": [
       "  Name  Maths  Science\n",
       "0    A  100.0     30.0\n",
       "1    B   90.0      NaN\n",
       "2    C    NaN     45.0\n",
       "3    D   95.0     56.0"
      ]
     },
     "execution_count": 2,
     "metadata": {},
     "output_type": "execute_result"
    }
   ],
   "source": [
    "dict = {\n",
    "    'Name':[\"A\",\"B\" ,\"C\",\"D\"],\n",
    "    'Maths':[100, 90, None, 95],\n",
    " 'Science': [30, np.nan, 45, 56]\n",
    " }\n",
    "df=pd.DataFrame(dict)\n",
    "df"
   ]
  },
  {
   "cell_type": "code",
   "execution_count": 3,
   "id": "aaa79588",
   "metadata": {
    "execution": {
     "iopub.execute_input": "2023-09-10T12:45:03.561830Z",
     "iopub.status.busy": "2023-09-10T12:45:03.560844Z",
     "iopub.status.idle": "2023-09-10T12:45:03.579382Z",
     "shell.execute_reply": "2023-09-10T12:45:03.578228Z"
    },
    "papermill": {
     "duration": 0.025849,
     "end_time": "2023-09-10T12:45:03.581324",
     "exception": false,
     "start_time": "2023-09-10T12:45:03.555475",
     "status": "completed"
    },
    "tags": []
   },
   "outputs": [
    {
     "name": "stdout",
     "output_type": "stream",
     "text": [
      "Dropping the missing values from df : \n",
      "\n"
     ]
    },
    {
     "data": {
      "text/html": [
       "<div>\n",
       "<style scoped>\n",
       "    .dataframe tbody tr th:only-of-type {\n",
       "        vertical-align: middle;\n",
       "    }\n",
       "\n",
       "    .dataframe tbody tr th {\n",
       "        vertical-align: top;\n",
       "    }\n",
       "\n",
       "    .dataframe thead th {\n",
       "        text-align: right;\n",
       "    }\n",
       "</style>\n",
       "<table border=\"1\" class=\"dataframe\">\n",
       "  <thead>\n",
       "    <tr style=\"text-align: right;\">\n",
       "      <th></th>\n",
       "      <th>Name</th>\n",
       "      <th>Maths</th>\n",
       "      <th>Science</th>\n",
       "    </tr>\n",
       "  </thead>\n",
       "  <tbody>\n",
       "    <tr>\n",
       "      <th>0</th>\n",
       "      <td>A</td>\n",
       "      <td>100.0</td>\n",
       "      <td>30.0</td>\n",
       "    </tr>\n",
       "    <tr>\n",
       "      <th>3</th>\n",
       "      <td>D</td>\n",
       "      <td>95.0</td>\n",
       "      <td>56.0</td>\n",
       "    </tr>\n",
       "  </tbody>\n",
       "</table>\n",
       "</div>"
      ],
      "text/plain": [
       "  Name  Maths  Science\n",
       "0    A  100.0     30.0\n",
       "3    D   95.0     56.0"
      ]
     },
     "execution_count": 3,
     "metadata": {},
     "output_type": "execute_result"
    }
   ],
   "source": [
    "print(\"Dropping the missing values from df : \\n\")\n",
    "df.dropna()"
   ]
  },
  {
   "cell_type": "markdown",
   "id": "4b51e6b9",
   "metadata": {
    "papermill": {
     "duration": 0.004201,
     "end_time": "2023-09-10T12:45:03.590067",
     "exception": false,
     "start_time": "2023-09-10T12:45:03.585866",
     "status": "completed"
    },
    "tags": []
   },
   "source": [
    "### 2. to remove the duplicates from the given dataset"
   ]
  },
  {
   "cell_type": "code",
   "execution_count": 4,
   "id": "68ee237f",
   "metadata": {
    "execution": {
     "iopub.execute_input": "2023-09-10T12:45:03.600873Z",
     "iopub.status.busy": "2023-09-10T12:45:03.600440Z",
     "iopub.status.idle": "2023-09-10T12:45:03.613633Z",
     "shell.execute_reply": "2023-09-10T12:45:03.612922Z"
    },
    "papermill": {
     "duration": 0.022659,
     "end_time": "2023-09-10T12:45:03.617147",
     "exception": false,
     "start_time": "2023-09-10T12:45:03.594488",
     "status": "completed"
    },
    "tags": []
   },
   "outputs": [
    {
     "name": "stdout",
     "output_type": "stream",
     "text": [
      "Original df : \n",
      "\n"
     ]
    },
    {
     "data": {
      "text/html": [
       "<div>\n",
       "<style scoped>\n",
       "    .dataframe tbody tr th:only-of-type {\n",
       "        vertical-align: middle;\n",
       "    }\n",
       "\n",
       "    .dataframe tbody tr th {\n",
       "        vertical-align: top;\n",
       "    }\n",
       "\n",
       "    .dataframe thead th {\n",
       "        text-align: right;\n",
       "    }\n",
       "</style>\n",
       "<table border=\"1\" class=\"dataframe\">\n",
       "  <thead>\n",
       "    <tr style=\"text-align: right;\">\n",
       "      <th></th>\n",
       "      <th>Name</th>\n",
       "      <th>Maths</th>\n",
       "      <th>Science</th>\n",
       "    </tr>\n",
       "  </thead>\n",
       "  <tbody>\n",
       "    <tr>\n",
       "      <th>0</th>\n",
       "      <td>A</td>\n",
       "      <td>100</td>\n",
       "      <td>30</td>\n",
       "    </tr>\n",
       "    <tr>\n",
       "      <th>1</th>\n",
       "      <td>B</td>\n",
       "      <td>90</td>\n",
       "      <td>59</td>\n",
       "    </tr>\n",
       "    <tr>\n",
       "      <th>2</th>\n",
       "      <td>B</td>\n",
       "      <td>90</td>\n",
       "      <td>59</td>\n",
       "    </tr>\n",
       "    <tr>\n",
       "      <th>3</th>\n",
       "      <td>C</td>\n",
       "      <td>80</td>\n",
       "      <td>45</td>\n",
       "    </tr>\n",
       "    <tr>\n",
       "      <th>4</th>\n",
       "      <td>D</td>\n",
       "      <td>95</td>\n",
       "      <td>56</td>\n",
       "    </tr>\n",
       "    <tr>\n",
       "      <th>5</th>\n",
       "      <td>A</td>\n",
       "      <td>0</td>\n",
       "      <td>33</td>\n",
       "    </tr>\n",
       "  </tbody>\n",
       "</table>\n",
       "</div>"
      ],
      "text/plain": [
       "  Name  Maths  Science\n",
       "0    A    100       30\n",
       "1    B     90       59\n",
       "2    B     90       59\n",
       "3    C     80       45\n",
       "4    D     95       56\n",
       "5    A      0       33"
      ]
     },
     "execution_count": 4,
     "metadata": {},
     "output_type": "execute_result"
    }
   ],
   "source": [
    "df=pd.DataFrame({\n",
    "    'Name':[\"A\",\"B\" ,\"B\",\"C\",\"D\",\"A\"],\n",
    "    'Maths':[100, 90, 90, 80,95,0],\n",
    "     'Science': [30, 59, 59,45, 56,33]\n",
    "     })\n",
    "print(\"Original df : \\n\")\n",
    "df"
   ]
  },
  {
   "cell_type": "code",
   "execution_count": 5,
   "id": "ba1886a3",
   "metadata": {
    "execution": {
     "iopub.execute_input": "2023-09-10T12:45:03.629221Z",
     "iopub.status.busy": "2023-09-10T12:45:03.628243Z",
     "iopub.status.idle": "2023-09-10T12:45:03.648936Z",
     "shell.execute_reply": "2023-09-10T12:45:03.647812Z"
    },
    "papermill": {
     "duration": 0.028712,
     "end_time": "2023-09-10T12:45:03.650916",
     "exception": false,
     "start_time": "2023-09-10T12:45:03.622204",
     "status": "completed"
    },
    "tags": []
   },
   "outputs": [
    {
     "data": {
      "text/html": [
       "<div>\n",
       "<style scoped>\n",
       "    .dataframe tbody tr th:only-of-type {\n",
       "        vertical-align: middle;\n",
       "    }\n",
       "\n",
       "    .dataframe tbody tr th {\n",
       "        vertical-align: top;\n",
       "    }\n",
       "\n",
       "    .dataframe thead th {\n",
       "        text-align: right;\n",
       "    }\n",
       "</style>\n",
       "<table border=\"1\" class=\"dataframe\">\n",
       "  <thead>\n",
       "    <tr style=\"text-align: right;\">\n",
       "      <th></th>\n",
       "      <th>Name</th>\n",
       "      <th>Maths</th>\n",
       "      <th>Science</th>\n",
       "    </tr>\n",
       "  </thead>\n",
       "  <tbody>\n",
       "    <tr>\n",
       "      <th>0</th>\n",
       "      <td>A</td>\n",
       "      <td>100</td>\n",
       "      <td>30</td>\n",
       "    </tr>\n",
       "    <tr>\n",
       "      <th>1</th>\n",
       "      <td>B</td>\n",
       "      <td>90</td>\n",
       "      <td>59</td>\n",
       "    </tr>\n",
       "    <tr>\n",
       "      <th>3</th>\n",
       "      <td>C</td>\n",
       "      <td>80</td>\n",
       "      <td>45</td>\n",
       "    </tr>\n",
       "    <tr>\n",
       "      <th>4</th>\n",
       "      <td>D</td>\n",
       "      <td>95</td>\n",
       "      <td>56</td>\n",
       "    </tr>\n",
       "    <tr>\n",
       "      <th>5</th>\n",
       "      <td>A</td>\n",
       "      <td>0</td>\n",
       "      <td>33</td>\n",
       "    </tr>\n",
       "  </tbody>\n",
       "</table>\n",
       "</div>"
      ],
      "text/plain": [
       "  Name  Maths  Science\n",
       "0    A    100       30\n",
       "1    B     90       59\n",
       "3    C     80       45\n",
       "4    D     95       56\n",
       "5    A      0       33"
      ]
     },
     "execution_count": 5,
     "metadata": {},
     "output_type": "execute_result"
    }
   ],
   "source": [
    "df.drop_duplicates()           # By default, it removes duplicate rows based on all columns."
   ]
  },
  {
   "cell_type": "code",
   "execution_count": 6,
   "id": "d43f72e3",
   "metadata": {
    "execution": {
     "iopub.execute_input": "2023-09-10T12:45:03.663577Z",
     "iopub.status.busy": "2023-09-10T12:45:03.662905Z",
     "iopub.status.idle": "2023-09-10T12:45:03.673372Z",
     "shell.execute_reply": "2023-09-10T12:45:03.672262Z"
    },
    "papermill": {
     "duration": 0.019613,
     "end_time": "2023-09-10T12:45:03.675749",
     "exception": false,
     "start_time": "2023-09-10T12:45:03.656136",
     "status": "completed"
    },
    "tags": []
   },
   "outputs": [
    {
     "data": {
      "text/html": [
       "<div>\n",
       "<style scoped>\n",
       "    .dataframe tbody tr th:only-of-type {\n",
       "        vertical-align: middle;\n",
       "    }\n",
       "\n",
       "    .dataframe tbody tr th {\n",
       "        vertical-align: top;\n",
       "    }\n",
       "\n",
       "    .dataframe thead th {\n",
       "        text-align: right;\n",
       "    }\n",
       "</style>\n",
       "<table border=\"1\" class=\"dataframe\">\n",
       "  <thead>\n",
       "    <tr style=\"text-align: right;\">\n",
       "      <th></th>\n",
       "      <th>Name</th>\n",
       "      <th>Maths</th>\n",
       "      <th>Science</th>\n",
       "    </tr>\n",
       "  </thead>\n",
       "  <tbody>\n",
       "    <tr>\n",
       "      <th>0</th>\n",
       "      <td>A</td>\n",
       "      <td>100</td>\n",
       "      <td>30</td>\n",
       "    </tr>\n",
       "    <tr>\n",
       "      <th>1</th>\n",
       "      <td>B</td>\n",
       "      <td>90</td>\n",
       "      <td>59</td>\n",
       "    </tr>\n",
       "    <tr>\n",
       "      <th>3</th>\n",
       "      <td>C</td>\n",
       "      <td>80</td>\n",
       "      <td>45</td>\n",
       "    </tr>\n",
       "    <tr>\n",
       "      <th>4</th>\n",
       "      <td>D</td>\n",
       "      <td>95</td>\n",
       "      <td>56</td>\n",
       "    </tr>\n",
       "  </tbody>\n",
       "</table>\n",
       "</div>"
      ],
      "text/plain": [
       "  Name  Maths  Science\n",
       "0    A    100       30\n",
       "1    B     90       59\n",
       "3    C     80       45\n",
       "4    D     95       56"
      ]
     },
     "execution_count": 6,
     "metadata": {},
     "output_type": "execute_result"
    }
   ],
   "source": [
    "df.drop_duplicates(subset='Name')       # remove duplicates on specific column"
   ]
  }
 ],
 "kernelspec": {
  "display_name": "Python 3",
  "language": "python",
  "name": "python3"
 },
 "language_info": {
  "codemirror_mode": {
   "name": "ipython",
   "version": 3
  },
  "file_extension": ".py",
  "mimetype": "text/x-python",
  "name": "python",
  "nbconvert_exporter": "python",
  "pygments_lexer": "ipython3",
  "version": "3.6.4"
 },
 "metadata": {
  "kernelspec": {
   "display_name": "Python 3",
   "language": "python",
   "name": "python3"
  },
  "language_info": {
   "codemirror_mode": {
    "name": "ipython",
    "version": 3
   },
   "file_extension": ".py",
   "mimetype": "text/x-python",
   "name": "python",
   "nbconvert_exporter": "python",
   "pygments_lexer": "ipython3",
   "version": "3.10.12"
  },
  "papermill": {
   "default_parameters": {},
   "duration": 4.359123,
   "end_time": "2023-09-10T12:45:04.100709",
   "environment_variables": {},
   "exception": null,
   "input_path": "__notebook__.ipynb",
   "output_path": "__notebook__.ipynb",
   "parameters": {},
   "start_time": "2023-09-10T12:44:59.741586",
   "version": "2.4.0"
  }
 },
 "nbformat": 4,
 "nbformat_minor": 5
}
