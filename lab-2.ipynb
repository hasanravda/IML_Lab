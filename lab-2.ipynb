{
 "cells": [
  {
   "cell_type": "markdown",
   "id": "37698634",
   "metadata": {
    "_cell_guid": "b1076dfc-b9ad-4769-8c92-a6c4dae69d19",
    "_uuid": "8f2839f25d086af736a60e9eeb907d3b93b6e0e5",
    "execution": {
     "iopub.execute_input": "2023-09-01T11:02:34.866464Z",
     "iopub.status.busy": "2023-09-01T11:02:34.865035Z",
     "iopub.status.idle": "2023-09-01T11:02:34.875556Z",
     "shell.execute_reply": "2023-09-01T11:02:34.873721Z",
     "shell.execute_reply.started": "2023-09-01T11:02:34.866411Z"
    },
    "papermill": {
     "duration": 0.004322,
     "end_time": "2023-09-03T17:12:04.757930",
     "exception": false,
     "start_time": "2023-09-03T17:12:04.753608",
     "status": "completed"
    },
    "tags": []
   },
   "source": [
    "Write a NumPy program to implement following operation\n",
    "\n",
    "1. To convert a list of numeric values into a \n",
    "one-dimensional NumPy array"
   ]
  },
  {
   "cell_type": "code",
   "execution_count": 1,
   "id": "cdf32dac",
   "metadata": {
    "execution": {
     "iopub.execute_input": "2023-09-03T17:12:04.767228Z",
     "iopub.status.busy": "2023-09-03T17:12:04.766585Z",
     "iopub.status.idle": "2023-09-03T17:12:04.779181Z",
     "shell.execute_reply": "2023-09-03T17:12:04.778234Z"
    },
    "papermill": {
     "duration": 0.01994,
     "end_time": "2023-09-03T17:12:04.781440",
     "exception": false,
     "start_time": "2023-09-03T17:12:04.761500",
     "status": "completed"
    },
    "tags": []
   },
   "outputs": [
    {
     "name": "stdout",
     "output_type": "stream",
     "text": [
      "[1 2 3 4 5]\n",
      "<class 'numpy.ndarray'>\n"
     ]
    }
   ],
   "source": [
    "# 216270307028\n",
    "# Hasan Ravda\n",
    "\n",
    "import numpy as np\n",
    "\n",
    "# To convert a list of numeric values into a one-dimensional NumPy array\n",
    "a=np.array([1,2,3,4,5])\n",
    "print(a)\n",
    "print(type(a))"
   ]
  },
  {
   "cell_type": "markdown",
   "id": "47e81fc9",
   "metadata": {
    "papermill": {
     "duration": 0.003204,
     "end_time": "2023-09-03T17:12:04.788319",
     "exception": false,
     "start_time": "2023-09-03T17:12:04.785115",
     "status": "completed"
    },
    "tags": []
   },
   "source": [
    "2. To create a 3x3 matrix with values ranging \n",
    "from 2 to 10"
   ]
  },
  {
   "cell_type": "code",
   "execution_count": 2,
   "id": "9728827c",
   "metadata": {
    "execution": {
     "iopub.execute_input": "2023-09-03T17:12:04.798427Z",
     "iopub.status.busy": "2023-09-03T17:12:04.797459Z",
     "iopub.status.idle": "2023-09-03T17:12:04.804255Z",
     "shell.execute_reply": "2023-09-03T17:12:04.803177Z"
    },
    "papermill": {
     "duration": 0.013968,
     "end_time": "2023-09-03T17:12:04.806369",
     "exception": false,
     "start_time": "2023-09-03T17:12:04.792401",
     "status": "completed"
    },
    "tags": []
   },
   "outputs": [
    {
     "name": "stdout",
     "output_type": "stream",
     "text": [
      "[[ 2  3  4]\n",
      " [ 5  6  7]\n",
      " [ 8  9 10]]\n",
      "[[ 2  3  4]\n",
      " [ 5  6  7]\n",
      " [ 8  9 10]]\n"
     ]
    }
   ],
   "source": [
    "a3=np.array([[2,3,4],[5,6,7],[8,9,10]])\n",
    "print(a3)\n",
    "\n",
    "matrix =np.arange(2,11,1).reshape(3,3)\n",
    "print(matrix)"
   ]
  },
  {
   "cell_type": "markdown",
   "id": "70d87f30",
   "metadata": {
    "papermill": {
     "duration": 0.003274,
     "end_time": "2023-09-03T17:12:04.813469",
     "exception": false,
     "start_time": "2023-09-03T17:12:04.810195",
     "status": "completed"
    },
    "tags": []
   },
   "source": [
    "3. To append values at the end of an array"
   ]
  },
  {
   "cell_type": "code",
   "execution_count": 3,
   "id": "65771e61",
   "metadata": {
    "execution": {
     "iopub.execute_input": "2023-09-03T17:12:04.822684Z",
     "iopub.status.busy": "2023-09-03T17:12:04.822330Z",
     "iopub.status.idle": "2023-09-03T17:12:04.831825Z",
     "shell.execute_reply": "2023-09-03T17:12:04.829570Z"
    },
    "papermill": {
     "duration": 0.017713,
     "end_time": "2023-09-03T17:12:04.834708",
     "exception": false,
     "start_time": "2023-09-03T17:12:04.816995",
     "status": "completed"
    },
    "tags": []
   },
   "outputs": [
    {
     "name": "stdout",
     "output_type": "stream",
     "text": [
      "[1 2 3 4 5 6 7 8]\n"
     ]
    }
   ],
   "source": [
    "newa=np.append(a,[6,7,8])\n",
    "print(newa)"
   ]
  },
  {
   "cell_type": "markdown",
   "id": "0347f7ea",
   "metadata": {
    "papermill": {
     "duration": 0.00332,
     "end_time": "2023-09-03T17:12:04.841928",
     "exception": false,
     "start_time": "2023-09-03T17:12:04.838608",
     "status": "completed"
    },
    "tags": []
   },
   "source": [
    "4. To create another shape from an array \n",
    "without changing its data (3x2 to 2x3) "
   ]
  },
  {
   "cell_type": "code",
   "execution_count": 4,
   "id": "d0f8034d",
   "metadata": {
    "execution": {
     "iopub.execute_input": "2023-09-03T17:12:04.850609Z",
     "iopub.status.busy": "2023-09-03T17:12:04.850233Z",
     "iopub.status.idle": "2023-09-03T17:12:04.857495Z",
     "shell.execute_reply": "2023-09-03T17:12:04.856153Z"
    },
    "papermill": {
     "duration": 0.014009,
     "end_time": "2023-09-03T17:12:04.859276",
     "exception": false,
     "start_time": "2023-09-03T17:12:04.845267",
     "status": "completed"
    },
    "tags": []
   },
   "outputs": [
    {
     "name": "stdout",
     "output_type": "stream",
     "text": [
      "3x2 Array : \n",
      " [[1 2]\n",
      " [3 4]\n",
      " [5 6]]\n",
      "2x3 Array : \n",
      " [[1 2 3]\n",
      " [4 5 6]]\n"
     ]
    }
   ],
   "source": [
    "arr=np.array([[1,2],[3,4],[5,6]])\n",
    "print(\"3x2 Array : \\n\",arr)\n",
    "\n",
    "arr2=arr.reshape(2,3)\n",
    "print(\"2x3 Array : \\n\",arr2)"
   ]
  }
 ],
 "kernelspec": {
  "display_name": "Python 3",
  "language": "python",
  "name": "python3"
 },
 "language_info": {
  "codemirror_mode": {
   "name": "ipython",
   "version": 3
  },
  "file_extension": ".py",
  "mimetype": "text/x-python",
  "name": "python",
  "nbconvert_exporter": "python",
  "pygments_lexer": "ipython3",
  "version": "3.6.4"
 },
 "metadata": {
  "kernelspec": {
   "display_name": "Python 3",
   "language": "python",
   "name": "python3"
  },
  "language_info": {
   "codemirror_mode": {
    "name": "ipython",
    "version": 3
   },
   "file_extension": ".py",
   "mimetype": "text/x-python",
   "name": "python",
   "nbconvert_exporter": "python",
   "pygments_lexer": "ipython3",
   "version": "3.10.12"
  },
  "papermill": {
   "default_parameters": {},
   "duration": 3.593176,
   "end_time": "2023-09-03T17:12:05.284485",
   "environment_variables": {},
   "exception": null,
   "input_path": "__notebook__.ipynb",
   "output_path": "__notebook__.ipynb",
   "parameters": {},
   "start_time": "2023-09-03T17:12:01.691309",
   "version": "2.4.0"
  }
 },
 "nbformat": 4,
 "nbformat_minor": 5
}
