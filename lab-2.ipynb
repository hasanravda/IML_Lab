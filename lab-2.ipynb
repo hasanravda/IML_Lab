{
 "cells": [
  {
   "cell_type": "markdown",
   "id": "93cd78e7",
   "metadata": {
    "_cell_guid": "b1076dfc-b9ad-4769-8c92-a6c4dae69d19",
    "_uuid": "8f2839f25d086af736a60e9eeb907d3b93b6e0e5",
    "execution": {
     "iopub.execute_input": "2023-09-01T11:02:34.866464Z",
     "iopub.status.busy": "2023-09-01T11:02:34.865035Z",
     "iopub.status.idle": "2023-09-01T11:02:34.875556Z",
     "shell.execute_reply": "2023-09-01T11:02:34.873721Z",
     "shell.execute_reply.started": "2023-09-01T11:02:34.866411Z"
    },
    "papermill": {
     "duration": 0.005394,
     "end_time": "2023-09-01T11:31:22.642719",
     "exception": false,
     "start_time": "2023-09-01T11:31:22.637325",
     "status": "completed"
    },
    "tags": []
   },
   "source": [
    "1. To convert a list of numeric values into a \n",
    "one-dimensional NumPy array"
   ]
  },
  {
   "cell_type": "code",
   "execution_count": 1,
   "id": "9de184b8",
   "metadata": {
    "execution": {
     "iopub.execute_input": "2023-09-01T11:31:22.655154Z",
     "iopub.status.busy": "2023-09-01T11:31:22.654369Z",
     "iopub.status.idle": "2023-09-01T11:31:22.669364Z",
     "shell.execute_reply": "2023-09-01T11:31:22.668158Z"
    },
    "papermill": {
     "duration": 0.025073,
     "end_time": "2023-09-01T11:31:22.672721",
     "exception": false,
     "start_time": "2023-09-01T11:31:22.647648",
     "status": "completed"
    },
    "tags": []
   },
   "outputs": [
    {
     "name": "stdout",
     "output_type": "stream",
     "text": [
      "[1 2 3 4 5]\n",
      "<class 'numpy.ndarray'>\n"
     ]
    }
   ],
   "source": [
    "# 216270307028\n",
    "# Hasan Ravda\n",
    "\n",
    "import numpy as np\n",
    "\n",
    "# To convert a list of numeric values into a one-dimensional NumPy array\n",
    "a=np.array([1,2,3,4,5])\n",
    "print(a)\n",
    "print(type(a))"
   ]
  },
  {
   "cell_type": "markdown",
   "id": "c0ad646c",
   "metadata": {
    "papermill": {
     "duration": 0.004612,
     "end_time": "2023-09-01T11:31:22.681903",
     "exception": false,
     "start_time": "2023-09-01T11:31:22.677291",
     "status": "completed"
    },
    "tags": []
   },
   "source": [
    "2. To create a 3x3 matrix with values ranging \n",
    "from 2 to 10"
   ]
  },
  {
   "cell_type": "code",
   "execution_count": 2,
   "id": "903f9449",
   "metadata": {
    "execution": {
     "iopub.execute_input": "2023-09-01T11:31:22.693677Z",
     "iopub.status.busy": "2023-09-01T11:31:22.692908Z",
     "iopub.status.idle": "2023-09-01T11:31:22.699799Z",
     "shell.execute_reply": "2023-09-01T11:31:22.698658Z"
    },
    "papermill": {
     "duration": 0.015983,
     "end_time": "2023-09-01T11:31:22.702635",
     "exception": false,
     "start_time": "2023-09-01T11:31:22.686652",
     "status": "completed"
    },
    "tags": []
   },
   "outputs": [
    {
     "name": "stdout",
     "output_type": "stream",
     "text": [
      "[[ 2  3  4]\n",
      " [ 5  6  7]\n",
      " [ 8  9 10]]\n"
     ]
    }
   ],
   "source": [
    "a3=np.array([[2,3,4],[5,6,7],[8,9,10]])\n",
    "print(a3)"
   ]
  },
  {
   "cell_type": "markdown",
   "id": "27e4f2b1",
   "metadata": {
    "papermill": {
     "duration": 0.004103,
     "end_time": "2023-09-01T11:31:22.711555",
     "exception": false,
     "start_time": "2023-09-01T11:31:22.707452",
     "status": "completed"
    },
    "tags": []
   },
   "source": [
    "3. To append values at the end of an array"
   ]
  },
  {
   "cell_type": "code",
   "execution_count": 3,
   "id": "59fa21d8",
   "metadata": {
    "execution": {
     "iopub.execute_input": "2023-09-01T11:31:22.722463Z",
     "iopub.status.busy": "2023-09-01T11:31:22.721961Z",
     "iopub.status.idle": "2023-09-01T11:31:22.729086Z",
     "shell.execute_reply": "2023-09-01T11:31:22.727769Z"
    },
    "papermill": {
     "duration": 0.015599,
     "end_time": "2023-09-01T11:31:22.731605",
     "exception": false,
     "start_time": "2023-09-01T11:31:22.716006",
     "status": "completed"
    },
    "tags": []
   },
   "outputs": [
    {
     "name": "stdout",
     "output_type": "stream",
     "text": [
      "[1 2 3 4 5 6 7 8]\n"
     ]
    }
   ],
   "source": [
    "newa=np.append(a,[6,7,8])\n",
    "print(newa)"
   ]
  },
  {
   "cell_type": "markdown",
   "id": "2ca453d8",
   "metadata": {
    "papermill": {
     "duration": 0.004069,
     "end_time": "2023-09-01T11:31:22.740366",
     "exception": false,
     "start_time": "2023-09-01T11:31:22.736297",
     "status": "completed"
    },
    "tags": []
   },
   "source": [
    "4. To create another shape from an array \n",
    "without changing its data (3x2 to 2x3) "
   ]
  },
  {
   "cell_type": "code",
   "execution_count": 4,
   "id": "5f7fc41b",
   "metadata": {
    "execution": {
     "iopub.execute_input": "2023-09-01T11:31:22.751230Z",
     "iopub.status.busy": "2023-09-01T11:31:22.750831Z",
     "iopub.status.idle": "2023-09-01T11:31:22.757370Z",
     "shell.execute_reply": "2023-09-01T11:31:22.756392Z"
    },
    "papermill": {
     "duration": 0.014993,
     "end_time": "2023-09-01T11:31:22.759990",
     "exception": false,
     "start_time": "2023-09-01T11:31:22.744997",
     "status": "completed"
    },
    "tags": []
   },
   "outputs": [
    {
     "name": "stdout",
     "output_type": "stream",
     "text": [
      "3x2 Array : \n",
      " [[1 2]\n",
      " [3 4]\n",
      " [5 6]]\n",
      "2x3 Array : \n",
      " [[1 2 3]\n",
      " [4 5 6]]\n"
     ]
    }
   ],
   "source": [
    "arr=np.array([[1,2],[3,4],[5,6]])\n",
    "print(\"3x2 Array : \\n\",arr)\n",
    "\n",
    "arr2=arr.reshape(2,3)\n",
    "print(\"2x3 Array : \\n\",arr2)"
   ]
  }
 ],
 "kernelspec": {
  "display_name": "Python 3",
  "language": "python",
  "name": "python3"
 },
 "language_info": {
  "codemirror_mode": {
   "name": "ipython",
   "version": 3
  },
  "file_extension": ".py",
  "mimetype": "text/x-python",
  "name": "python",
  "nbconvert_exporter": "python",
  "pygments_lexer": "ipython3",
  "version": "3.6.4"
 },
 "metadata": {
  "kernelspec": {
   "display_name": "Python 3",
   "language": "python",
   "name": "python3"
  },
  "language_info": {
   "codemirror_mode": {
    "name": "ipython",
    "version": 3
   },
   "file_extension": ".py",
   "mimetype": "text/x-python",
   "name": "python",
   "nbconvert_exporter": "python",
   "pygments_lexer": "ipython3",
   "version": "3.10.12"
  },
  "papermill": {
   "default_parameters": {},
   "duration": 4.211546,
   "end_time": "2023-09-01T11:31:23.189163",
   "environment_variables": {},
   "exception": null,
   "input_path": "__notebook__.ipynb",
   "output_path": "__notebook__.ipynb",
   "parameters": {},
   "start_time": "2023-09-01T11:31:18.977617",
   "version": "2.4.0"
  }
 },
 "nbformat": 4,
 "nbformat_minor": 5
}
