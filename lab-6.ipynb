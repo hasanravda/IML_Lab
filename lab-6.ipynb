{
 "cells": [
  {
   "cell_type": "markdown",
   "id": "c44715ac",
   "metadata": {
    "_cell_guid": "b1076dfc-b9ad-4769-8c92-a6c4dae69d19",
    "_uuid": "8f2839f25d086af736a60e9eeb907d3b93b6e0e5",
    "papermill": {
     "duration": 0.00658,
     "end_time": "2023-09-08T15:18:42.612969",
     "exception": false,
     "start_time": "2023-09-08T15:18:42.606389",
     "status": "completed"
    },
    "tags": []
   },
   "source": [
    "## Lab 6\n",
    "### *Hasan Ravda [216270307028]*"
   ]
  },
  {
   "cell_type": "markdown",
   "id": "8646e881",
   "metadata": {
    "papermill": {
     "duration": 0.005886,
     "end_time": "2023-09-08T15:18:42.624973",
     "exception": false,
     "start_time": "2023-09-08T15:18:42.619087",
     "status": "completed"
    },
    "tags": []
   },
   "source": [
    "# Write a Pandas program to implement following operation\n"
   ]
  },
  {
   "cell_type": "code",
   "execution_count": 1,
   "id": "0837e321",
   "metadata": {
    "execution": {
     "iopub.execute_input": "2023-09-08T15:18:42.638976Z",
     "iopub.status.busy": "2023-09-08T15:18:42.638196Z",
     "iopub.status.idle": "2023-09-08T15:18:43.049535Z",
     "shell.execute_reply": "2023-09-08T15:18:43.048450Z"
    },
    "papermill": {
     "duration": 0.421486,
     "end_time": "2023-09-08T15:18:43.052270",
     "exception": false,
     "start_time": "2023-09-08T15:18:42.630784",
     "status": "completed"
    },
    "tags": []
   },
   "outputs": [],
   "source": [
    "import numpy as np\n",
    "import pandas as pd"
   ]
  },
  {
   "cell_type": "markdown",
   "id": "78efed97",
   "metadata": {
    "papermill": {
     "duration": 0.005667,
     "end_time": "2023-09-08T15:18:43.064370",
     "exception": false,
     "start_time": "2023-09-08T15:18:43.058703",
     "status": "completed"
    },
    "tags": []
   },
   "source": [
    "### 1. To convert a NumPy array to a Pandas series"
   ]
  },
  {
   "cell_type": "code",
   "execution_count": 2,
   "id": "7b515686",
   "metadata": {
    "execution": {
     "iopub.execute_input": "2023-09-08T15:18:43.078013Z",
     "iopub.status.busy": "2023-09-08T15:18:43.077129Z",
     "iopub.status.idle": "2023-09-08T15:18:43.089182Z",
     "shell.execute_reply": "2023-09-08T15:18:43.088126Z"
    },
    "papermill": {
     "duration": 0.021532,
     "end_time": "2023-09-08T15:18:43.091576",
     "exception": false,
     "start_time": "2023-09-08T15:18:43.070044",
     "status": "completed"
    },
    "tags": []
   },
   "outputs": [
    {
     "data": {
      "text/plain": [
       "0    1\n",
       "1    2\n",
       "2    3\n",
       "3    4\n",
       "dtype: int64"
      ]
     },
     "execution_count": 2,
     "metadata": {},
     "output_type": "execute_result"
    }
   ],
   "source": [
    "arr = np.array([1,2,3,4])\n",
    "ser = pd.Series(arr)\n",
    "ser"
   ]
  },
  {
   "cell_type": "markdown",
   "id": "2bf2e834",
   "metadata": {
    "papermill": {
     "duration": 0.005786,
     "end_time": "2023-09-08T15:18:43.103781",
     "exception": false,
     "start_time": "2023-09-08T15:18:43.097995",
     "status": "completed"
    },
    "tags": []
   },
   "source": [
    "### 2. To convert the first column of a DataFrame as a Series"
   ]
  },
  {
   "cell_type": "code",
   "execution_count": 3,
   "id": "f1e8a5f1",
   "metadata": {
    "execution": {
     "iopub.execute_input": "2023-09-08T15:18:43.117382Z",
     "iopub.status.busy": "2023-09-08T15:18:43.116968Z",
     "iopub.status.idle": "2023-09-08T15:18:43.138475Z",
     "shell.execute_reply": "2023-09-08T15:18:43.137606Z"
    },
    "papermill": {
     "duration": 0.031048,
     "end_time": "2023-09-08T15:18:43.140744",
     "exception": false,
     "start_time": "2023-09-08T15:18:43.109696",
     "status": "completed"
    },
    "tags": []
   },
   "outputs": [
    {
     "data": {
      "text/html": [
       "<div>\n",
       "<style scoped>\n",
       "    .dataframe tbody tr th:only-of-type {\n",
       "        vertical-align: middle;\n",
       "    }\n",
       "\n",
       "    .dataframe tbody tr th {\n",
       "        vertical-align: top;\n",
       "    }\n",
       "\n",
       "    .dataframe thead th {\n",
       "        text-align: right;\n",
       "    }\n",
       "</style>\n",
       "<table border=\"1\" class=\"dataframe\">\n",
       "  <thead>\n",
       "    <tr style=\"text-align: right;\">\n",
       "      <th></th>\n",
       "      <th>price</th>\n",
       "      <th>product</th>\n",
       "    </tr>\n",
       "  </thead>\n",
       "  <tbody>\n",
       "    <tr>\n",
       "      <th>0</th>\n",
       "      <td>100</td>\n",
       "      <td>a</td>\n",
       "    </tr>\n",
       "    <tr>\n",
       "      <th>1</th>\n",
       "      <td>200</td>\n",
       "      <td>b</td>\n",
       "    </tr>\n",
       "    <tr>\n",
       "      <th>2</th>\n",
       "      <td>300</td>\n",
       "      <td>c</td>\n",
       "    </tr>\n",
       "    <tr>\n",
       "      <th>3</th>\n",
       "      <td>400</td>\n",
       "      <td>d</td>\n",
       "    </tr>\n",
       "  </tbody>\n",
       "</table>\n",
       "</div>"
      ],
      "text/plain": [
       "   price product\n",
       "0    100       a\n",
       "1    200       b\n",
       "2    300       c\n",
       "3    400       d"
      ]
     },
     "execution_count": 3,
     "metadata": {},
     "output_type": "execute_result"
    }
   ],
   "source": [
    "df=pd.DataFrame({\n",
    "    \"price\":[100,200,300,400],\n",
    "    \"product\":[\"a\",\"b\",\"c\",\"d\"]\n",
    "})\n",
    "df"
   ]
  },
  {
   "cell_type": "code",
   "execution_count": 4,
   "id": "d74e4b79",
   "metadata": {
    "execution": {
     "iopub.execute_input": "2023-09-08T15:18:43.155194Z",
     "iopub.status.busy": "2023-09-08T15:18:43.154775Z",
     "iopub.status.idle": "2023-09-08T15:18:43.163923Z",
     "shell.execute_reply": "2023-09-08T15:18:43.163098Z"
    },
    "papermill": {
     "duration": 0.018603,
     "end_time": "2023-09-08T15:18:43.165865",
     "exception": false,
     "start_time": "2023-09-08T15:18:43.147262",
     "status": "completed"
    },
    "tags": []
   },
   "outputs": [
    {
     "name": "stdout",
     "output_type": "stream",
     "text": [
      "<class 'pandas.core.series.Series'>\n"
     ]
    },
    {
     "data": {
      "text/plain": [
       "0    100\n",
       "1    200\n",
       "2    300\n",
       "3    400\n",
       "Name: price, dtype: int64"
      ]
     },
     "execution_count": 4,
     "metadata": {},
     "output_type": "execute_result"
    }
   ],
   "source": [
    "price_col = df['price']\n",
    "print(type(price_col))\n",
    "price_col"
   ]
  },
  {
   "cell_type": "markdown",
   "id": "15719d9c",
   "metadata": {
    "papermill": {
     "duration": 0.006288,
     "end_time": "2023-09-08T15:18:43.178744",
     "exception": false,
     "start_time": "2023-09-08T15:18:43.172456",
     "status": "completed"
    },
    "tags": []
   },
   "source": [
    "### 3. To create the mean and standard deviation of the data of a given Series"
   ]
  },
  {
   "cell_type": "code",
   "execution_count": 5,
   "id": "37b48e66",
   "metadata": {
    "execution": {
     "iopub.execute_input": "2023-09-08T15:18:43.194106Z",
     "iopub.status.busy": "2023-09-08T15:18:43.193402Z",
     "iopub.status.idle": "2023-09-08T15:18:43.203092Z",
     "shell.execute_reply": "2023-09-08T15:18:43.202033Z"
    },
    "papermill": {
     "duration": 0.019854,
     "end_time": "2023-09-08T15:18:43.205277",
     "exception": false,
     "start_time": "2023-09-08T15:18:43.185423",
     "status": "completed"
    },
    "tags": []
   },
   "outputs": [
    {
     "name": "stdout",
     "output_type": "stream",
     "text": [
      "Series s1 :\n",
      "0     1\n",
      "1     2\n",
      "2     3\n",
      "3     4\n",
      "4     5\n",
      "5     6\n",
      "6     7\n",
      "7     8\n",
      "8     9\n",
      "9    10\n",
      "dtype: int64\n",
      "\n",
      "Standard deviation =  3.0276503540974917\n",
      "Mean =  5.5\n"
     ]
    }
   ],
   "source": [
    "s1 = pd.Series(np.arange(1,11))\n",
    "print(\"Series s1 :\")\n",
    "print(s1)\n",
    "\n",
    "print(\"\\nStandard deviation = \",s1.std())\n",
    "print(\"Mean = \",s1.mean())"
   ]
  },
  {
   "cell_type": "markdown",
   "id": "e33b3faa",
   "metadata": {
    "papermill": {
     "duration": 0.006407,
     "end_time": "2023-09-08T15:18:43.218395",
     "exception": false,
     "start_time": "2023-09-08T15:18:43.211988",
     "status": "completed"
    },
    "tags": []
   },
   "source": [
    "### 4. To sort a given Series "
   ]
  },
  {
   "cell_type": "code",
   "execution_count": 6,
   "id": "d73948e5",
   "metadata": {
    "execution": {
     "iopub.execute_input": "2023-09-08T15:18:43.233562Z",
     "iopub.status.busy": "2023-09-08T15:18:43.233137Z",
     "iopub.status.idle": "2023-09-08T15:18:43.247947Z",
     "shell.execute_reply": "2023-09-08T15:18:43.247044Z"
    },
    "papermill": {
     "duration": 0.024905,
     "end_time": "2023-09-08T15:18:43.250036",
     "exception": false,
     "start_time": "2023-09-08T15:18:43.225131",
     "status": "completed"
    },
    "tags": []
   },
   "outputs": [
    {
     "name": "stdout",
     "output_type": "stream",
     "text": [
      "Series s2 :\n",
      " 0     4\n",
      "1     2\n",
      "2    64\n",
      "3     7\n",
      "4     3\n",
      "5     9\n",
      "dtype: int64\n",
      "\n",
      "Series s2 After sorting :\n"
     ]
    },
    {
     "data": {
      "text/plain": [
       "1     2\n",
       "4     3\n",
       "0     4\n",
       "3     7\n",
       "5     9\n",
       "2    64\n",
       "dtype: int64"
      ]
     },
     "execution_count": 6,
     "metadata": {},
     "output_type": "execute_result"
    }
   ],
   "source": [
    "s2=pd.Series([4,2,64,7,3,9])\n",
    "print(\"Series s2 :\\n\",s2)\n",
    "print(\"\\nSeries s2 After sorting :\")\n",
    "s2.sort_values()"
   ]
  }
 ],
 "kernelspec": {
  "display_name": "Python 3",
  "language": "python",
  "name": "python3"
 },
 "language_info": {
  "codemirror_mode": {
   "name": "ipython",
   "version": 3
  },
  "file_extension": ".py",
  "mimetype": "text/x-python",
  "name": "python",
  "nbconvert_exporter": "python",
  "pygments_lexer": "ipython3",
  "version": "3.6.4"
 },
 "metadata": {
  "kernelspec": {
   "display_name": "Python 3",
   "language": "python",
   "name": "python3"
  },
  "language_info": {
   "codemirror_mode": {
    "name": "ipython",
    "version": 3
   },
   "file_extension": ".py",
   "mimetype": "text/x-python",
   "name": "python",
   "nbconvert_exporter": "python",
   "pygments_lexer": "ipython3",
   "version": "3.10.12"
  },
  "papermill": {
   "default_parameters": {},
   "duration": 4.656164,
   "end_time": "2023-09-08T15:18:43.676924",
   "environment_variables": {},
   "exception": null,
   "input_path": "__notebook__.ipynb",
   "output_path": "__notebook__.ipynb",
   "parameters": {},
   "start_time": "2023-09-08T15:18:39.020760",
   "version": "2.4.0"
  }
 },
 "nbformat": 4,
 "nbformat_minor": 5
}
