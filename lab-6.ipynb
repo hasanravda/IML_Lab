{
 "cells": [
  {
   "cell_type": "markdown",
   "id": "68f6ff40",
   "metadata": {
    "_cell_guid": "b1076dfc-b9ad-4769-8c92-a6c4dae69d19",
    "_uuid": "8f2839f25d086af736a60e9eeb907d3b93b6e0e5",
    "papermill": {
     "duration": 0.006763,
     "end_time": "2023-09-10T11:12:11.249690",
     "exception": false,
     "start_time": "2023-09-10T11:12:11.242927",
     "status": "completed"
    },
    "tags": []
   },
   "source": [
    "## Lab 6\n",
    "### *Hasan Ravda [216270307028]*"
   ]
  },
  {
   "cell_type": "markdown",
   "id": "8fe97df5",
   "metadata": {
    "papermill": {
     "duration": 0.004667,
     "end_time": "2023-09-10T11:12:11.262464",
     "exception": false,
     "start_time": "2023-09-10T11:12:11.257797",
     "status": "completed"
    },
    "tags": []
   },
   "source": [
    "# Write a Pandas program to implement following operation\n"
   ]
  },
  {
   "cell_type": "code",
   "execution_count": 1,
   "id": "8925efb5",
   "metadata": {
    "execution": {
     "iopub.execute_input": "2023-09-10T11:12:11.274749Z",
     "iopub.status.busy": "2023-09-10T11:12:11.273814Z",
     "iopub.status.idle": "2023-09-10T11:12:11.786336Z",
     "shell.execute_reply": "2023-09-10T11:12:11.785158Z"
    },
    "papermill": {
     "duration": 0.522251,
     "end_time": "2023-09-10T11:12:11.789421",
     "exception": false,
     "start_time": "2023-09-10T11:12:11.267170",
     "status": "completed"
    },
    "tags": []
   },
   "outputs": [],
   "source": [
    "import numpy as np\n",
    "import pandas as pd"
   ]
  },
  {
   "cell_type": "markdown",
   "id": "b911c17b",
   "metadata": {
    "papermill": {
     "duration": 0.005729,
     "end_time": "2023-09-10T11:12:11.800661",
     "exception": false,
     "start_time": "2023-09-10T11:12:11.794932",
     "status": "completed"
    },
    "tags": []
   },
   "source": [
    "### 1. To convert a NumPy array to a Pandas series"
   ]
  },
  {
   "cell_type": "code",
   "execution_count": 2,
   "id": "2d8d728e",
   "metadata": {
    "execution": {
     "iopub.execute_input": "2023-09-10T11:12:11.814616Z",
     "iopub.status.busy": "2023-09-10T11:12:11.813982Z",
     "iopub.status.idle": "2023-09-10T11:12:11.828640Z",
     "shell.execute_reply": "2023-09-10T11:12:11.827274Z"
    },
    "papermill": {
     "duration": 0.028869,
     "end_time": "2023-09-10T11:12:11.834868",
     "exception": false,
     "start_time": "2023-09-10T11:12:11.805999",
     "status": "completed"
    },
    "tags": []
   },
   "outputs": [
    {
     "data": {
      "text/plain": [
       "0    H\n",
       "1    a\n",
       "2    s\n",
       "3    a\n",
       "4    n\n",
       "dtype: object"
      ]
     },
     "execution_count": 2,
     "metadata": {},
     "output_type": "execute_result"
    }
   ],
   "source": [
    "arr = np.array(list(\"Hasan\"))\n",
    "ser = pd.Series(arr)\n",
    "ser"
   ]
  },
  {
   "cell_type": "markdown",
   "id": "5e7ed3ad",
   "metadata": {
    "papermill": {
     "duration": 0.005157,
     "end_time": "2023-09-10T11:12:11.845814",
     "exception": false,
     "start_time": "2023-09-10T11:12:11.840657",
     "status": "completed"
    },
    "tags": []
   },
   "source": [
    "### 2. To convert the first column of a DataFrame as a Series"
   ]
  },
  {
   "cell_type": "code",
   "execution_count": 3,
   "id": "b9667960",
   "metadata": {
    "execution": {
     "iopub.execute_input": "2023-09-10T11:12:11.860299Z",
     "iopub.status.busy": "2023-09-10T11:12:11.859431Z",
     "iopub.status.idle": "2023-09-10T11:12:11.882054Z",
     "shell.execute_reply": "2023-09-10T11:12:11.880499Z"
    },
    "papermill": {
     "duration": 0.033305,
     "end_time": "2023-09-10T11:12:11.884638",
     "exception": false,
     "start_time": "2023-09-10T11:12:11.851333",
     "status": "completed"
    },
    "tags": []
   },
   "outputs": [
    {
     "data": {
      "text/html": [
       "<div>\n",
       "<style scoped>\n",
       "    .dataframe tbody tr th:only-of-type {\n",
       "        vertical-align: middle;\n",
       "    }\n",
       "\n",
       "    .dataframe tbody tr th {\n",
       "        vertical-align: top;\n",
       "    }\n",
       "\n",
       "    .dataframe thead th {\n",
       "        text-align: right;\n",
       "    }\n",
       "</style>\n",
       "<table border=\"1\" class=\"dataframe\">\n",
       "  <thead>\n",
       "    <tr style=\"text-align: right;\">\n",
       "      <th></th>\n",
       "      <th>price</th>\n",
       "      <th>product</th>\n",
       "    </tr>\n",
       "  </thead>\n",
       "  <tbody>\n",
       "    <tr>\n",
       "      <th>0</th>\n",
       "      <td>100</td>\n",
       "      <td>a</td>\n",
       "    </tr>\n",
       "    <tr>\n",
       "      <th>1</th>\n",
       "      <td>200</td>\n",
       "      <td>b</td>\n",
       "    </tr>\n",
       "    <tr>\n",
       "      <th>2</th>\n",
       "      <td>300</td>\n",
       "      <td>c</td>\n",
       "    </tr>\n",
       "    <tr>\n",
       "      <th>3</th>\n",
       "      <td>400</td>\n",
       "      <td>d</td>\n",
       "    </tr>\n",
       "  </tbody>\n",
       "</table>\n",
       "</div>"
      ],
      "text/plain": [
       "   price product\n",
       "0    100       a\n",
       "1    200       b\n",
       "2    300       c\n",
       "3    400       d"
      ]
     },
     "execution_count": 3,
     "metadata": {},
     "output_type": "execute_result"
    }
   ],
   "source": [
    "df=pd.DataFrame({\n",
    "    \"price\":[100,200,300,400],\n",
    "    \"product\":[\"a\",\"b\",\"c\",\"d\"]\n",
    "})\n",
    "df"
   ]
  },
  {
   "cell_type": "code",
   "execution_count": 4,
   "id": "25434b40",
   "metadata": {
    "execution": {
     "iopub.execute_input": "2023-09-10T11:12:11.898161Z",
     "iopub.status.busy": "2023-09-10T11:12:11.897549Z",
     "iopub.status.idle": "2023-09-10T11:12:11.909726Z",
     "shell.execute_reply": "2023-09-10T11:12:11.907520Z"
    },
    "papermill": {
     "duration": 0.022284,
     "end_time": "2023-09-10T11:12:11.912290",
     "exception": false,
     "start_time": "2023-09-10T11:12:11.890006",
     "status": "completed"
    },
    "tags": []
   },
   "outputs": [
    {
     "name": "stdout",
     "output_type": "stream",
     "text": [
      "<class 'pandas.core.series.Series'>\n"
     ]
    },
    {
     "data": {
      "text/plain": [
       "0    100\n",
       "1    200\n",
       "2    300\n",
       "3    400\n",
       "Name: price, dtype: int64"
      ]
     },
     "execution_count": 4,
     "metadata": {},
     "output_type": "execute_result"
    }
   ],
   "source": [
    "price_col = df['price']\n",
    "print(type(price_col))\n",
    "price_col"
   ]
  },
  {
   "cell_type": "markdown",
   "id": "46849be7",
   "metadata": {
    "papermill": {
     "duration": 0.004667,
     "end_time": "2023-09-10T11:12:11.922057",
     "exception": false,
     "start_time": "2023-09-10T11:12:11.917390",
     "status": "completed"
    },
    "tags": []
   },
   "source": [
    "### 3. To create the mean and standard deviation of the data of a given Series"
   ]
  },
  {
   "cell_type": "code",
   "execution_count": 5,
   "id": "fa961bea",
   "metadata": {
    "execution": {
     "iopub.execute_input": "2023-09-10T11:12:11.934675Z",
     "iopub.status.busy": "2023-09-10T11:12:11.934082Z",
     "iopub.status.idle": "2023-09-10T11:12:11.944782Z",
     "shell.execute_reply": "2023-09-10T11:12:11.943559Z"
    },
    "papermill": {
     "duration": 0.020161,
     "end_time": "2023-09-10T11:12:11.947237",
     "exception": false,
     "start_time": "2023-09-10T11:12:11.927076",
     "status": "completed"
    },
    "tags": []
   },
   "outputs": [
    {
     "name": "stdout",
     "output_type": "stream",
     "text": [
      "Series s1 :\n",
      "0     1\n",
      "1     2\n",
      "2     3\n",
      "3     4\n",
      "4     5\n",
      "5     6\n",
      "6     7\n",
      "7     8\n",
      "8     9\n",
      "9    10\n",
      "dtype: int64\n",
      "\n",
      "Mean =  5.5\n",
      "Standard deviation =  3.0276503540974917\n"
     ]
    }
   ],
   "source": [
    "s1 = pd.Series(np.arange(1,11))\n",
    "print(\"Series s1 :\")\n",
    "print(s1)\n",
    "\n",
    "print(\"\\nMean = \",s1.mean())\n",
    "print(\"Standard deviation = \",s1.std())"
   ]
  },
  {
   "cell_type": "markdown",
   "id": "555da896",
   "metadata": {
    "papermill": {
     "duration": 0.004734,
     "end_time": "2023-09-10T11:12:11.957106",
     "exception": false,
     "start_time": "2023-09-10T11:12:11.952372",
     "status": "completed"
    },
    "tags": []
   },
   "source": [
    "### 4. To sort a given Series "
   ]
  },
  {
   "cell_type": "code",
   "execution_count": 6,
   "id": "95762b89",
   "metadata": {
    "execution": {
     "iopub.execute_input": "2023-09-10T11:12:11.970256Z",
     "iopub.status.busy": "2023-09-10T11:12:11.968788Z",
     "iopub.status.idle": "2023-09-10T11:12:11.983636Z",
     "shell.execute_reply": "2023-09-10T11:12:11.982573Z"
    },
    "papermill": {
     "duration": 0.023617,
     "end_time": "2023-09-10T11:12:11.985765",
     "exception": false,
     "start_time": "2023-09-10T11:12:11.962148",
     "status": "completed"
    },
    "tags": []
   },
   "outputs": [
    {
     "name": "stdout",
     "output_type": "stream",
     "text": [
      "Series s2 :\n",
      " 0     4\n",
      "1     2\n",
      "2    64\n",
      "3     7\n",
      "4     3\n",
      "5     9\n",
      "dtype: int64\n",
      "\n",
      "Series s2 After sorting :\n"
     ]
    },
    {
     "data": {
      "text/plain": [
       "1     2\n",
       "4     3\n",
       "0     4\n",
       "3     7\n",
       "5     9\n",
       "2    64\n",
       "dtype: int64"
      ]
     },
     "execution_count": 6,
     "metadata": {},
     "output_type": "execute_result"
    }
   ],
   "source": [
    "s2=pd.Series([4,2,64,7,3,9])\n",
    "print(\"Series s2 :\\n\",s2)\n",
    "print(\"\\nSeries s2 After sorting :\")\n",
    "s2.sort_values()"
   ]
  }
 ],
 "kernelspec": {
  "display_name": "Python 3",
  "language": "python",
  "name": "python3"
 },
 "language_info": {
  "codemirror_mode": {
   "name": "ipython",
   "version": 3
  },
  "file_extension": ".py",
  "mimetype": "text/x-python",
  "name": "python",
  "nbconvert_exporter": "python",
  "pygments_lexer": "ipython3",
  "version": "3.6.4"
 },
 "metadata": {
  "kernelspec": {
   "display_name": "Python 3",
   "language": "python",
   "name": "python3"
  },
  "language_info": {
   "codemirror_mode": {
    "name": "ipython",
    "version": 3
   },
   "file_extension": ".py",
   "mimetype": "text/x-python",
   "name": "python",
   "nbconvert_exporter": "python",
   "pygments_lexer": "ipython3",
   "version": "3.10.12"
  },
  "papermill": {
   "default_parameters": {},
   "duration": 4.817352,
   "end_time": "2023-09-10T11:12:12.613087",
   "environment_variables": {},
   "exception": null,
   "input_path": "__notebook__.ipynb",
   "output_path": "__notebook__.ipynb",
   "parameters": {},
   "start_time": "2023-09-10T11:12:07.795735",
   "version": "2.4.0"
  }
 },
 "nbformat": 4,
 "nbformat_minor": 5
}
