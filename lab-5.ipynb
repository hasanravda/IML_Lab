{
 "cells": [
  {
   "cell_type": "markdown",
   "id": "79e03d11",
   "metadata": {
    "_cell_guid": "b1076dfc-b9ad-4769-8c92-a6c4dae69d19",
    "_uuid": "8f2839f25d086af736a60e9eeb907d3b93b6e0e5",
    "papermill": {
     "duration": 0.006179,
     "end_time": "2023-09-10T11:04:15.685943",
     "exception": false,
     "start_time": "2023-09-10T11:04:15.679764",
     "status": "completed"
    },
    "tags": []
   },
   "source": [
    "## *Hasan Ravda     [ 216270307028 ]*\n",
    "## Lab 5"
   ]
  },
  {
   "cell_type": "markdown",
   "id": "903eb439",
   "metadata": {
    "papermill": {
     "duration": 0.004764,
     "end_time": "2023-09-10T11:04:15.696275",
     "exception": false,
     "start_time": "2023-09-10T11:04:15.691511",
     "status": "completed"
    },
    "tags": []
   },
   "source": [
    "# Write a NumPy program to implement following operation\n"
   ]
  },
  {
   "cell_type": "code",
   "execution_count": 1,
   "id": "a307cc59",
   "metadata": {
    "execution": {
     "iopub.execute_input": "2023-09-10T11:04:15.709458Z",
     "iopub.status.busy": "2023-09-10T11:04:15.708561Z",
     "iopub.status.idle": "2023-09-10T11:04:15.721559Z",
     "shell.execute_reply": "2023-09-10T11:04:15.720393Z"
    },
    "papermill": {
     "duration": 0.023209,
     "end_time": "2023-09-10T11:04:15.724509",
     "exception": false,
     "start_time": "2023-09-10T11:04:15.701300",
     "status": "completed"
    },
    "tags": []
   },
   "outputs": [],
   "source": [
    "# Hasan Ravda\n",
    "# 216270307028\n",
    "import numpy as np"
   ]
  },
  {
   "cell_type": "markdown",
   "id": "d6eba858",
   "metadata": {
    "papermill": {
     "duration": 0.004775,
     "end_time": "2023-09-10T11:04:15.734363",
     "exception": false,
     "start_time": "2023-09-10T11:04:15.729588",
     "status": "completed"
    },
    "tags": []
   },
   "source": [
    "### 1. to find the maximum and minimum value of a given flattened array"
   ]
  },
  {
   "cell_type": "code",
   "execution_count": 2,
   "id": "9ce6a6c1",
   "metadata": {
    "execution": {
     "iopub.execute_input": "2023-09-10T11:04:15.747701Z",
     "iopub.status.busy": "2023-09-10T11:04:15.746366Z",
     "iopub.status.idle": "2023-09-10T11:04:15.758103Z",
     "shell.execute_reply": "2023-09-10T11:04:15.756501Z"
    },
    "papermill": {
     "duration": 0.021659,
     "end_time": "2023-09-10T11:04:15.761177",
     "exception": false,
     "start_time": "2023-09-10T11:04:15.739518",
     "status": "completed"
    },
    "tags": []
   },
   "outputs": [
    {
     "name": "stdout",
     "output_type": "stream",
     "text": [
      "Original Array = \n",
      " [[1 2 3]\n",
      " [4 5 6]\n",
      " [7 8 9]]\n",
      "Flattened Array = [1 2 3 4 5 6 7 8 9]\n",
      "\n",
      "Maximum of given flattened array =  9\n",
      "Minimum of array =  1\n"
     ]
    }
   ],
   "source": [
    "arr=np.arange(1,10).reshape(3,3)\n",
    "print(\"Original Array = \\n\",arr)\n",
    "\n",
    "f_arr=arr.flatten()\n",
    "print(\"Flattened Array =\",f_arr)\n",
    "\n",
    "max=np.max(f_arr)\n",
    "print(\"\\nMaximum of given flattened array = \",max)\n",
    "\n",
    "min=np.min(f_arr)\n",
    "print(\"Minimum of array = \",min)"
   ]
  },
  {
   "cell_type": "markdown",
   "id": "8e7449a3",
   "metadata": {
    "papermill": {
     "duration": 0.004913,
     "end_time": "2023-09-10T11:04:15.771421",
     "exception": false,
     "start_time": "2023-09-10T11:04:15.766508",
     "status": "completed"
    },
    "tags": []
   },
   "source": [
    "### 2. To compute the mean, standard deviation, and variance of a given array along the second axis"
   ]
  },
  {
   "cell_type": "code",
   "execution_count": 3,
   "id": "ab018705",
   "metadata": {
    "execution": {
     "iopub.execute_input": "2023-09-10T11:04:15.784172Z",
     "iopub.status.busy": "2023-09-10T11:04:15.783741Z",
     "iopub.status.idle": "2023-09-10T11:04:15.793476Z",
     "shell.execute_reply": "2023-09-10T11:04:15.791687Z"
    },
    "papermill": {
     "duration": 0.020003,
     "end_time": "2023-09-10T11:04:15.796839",
     "exception": false,
     "start_time": "2023-09-10T11:04:15.776836",
     "status": "completed"
    },
    "tags": []
   },
   "outputs": [
    {
     "name": "stdout",
     "output_type": "stream",
     "text": [
      "[[1 2 3]\n",
      " [4 5 6]]\n",
      "\n",
      "Mean =  [2. 5.]\n",
      "Standard deviation =  [0.81649658 0.81649658]\n",
      "Variance =  [0.66666667 0.66666667]\n"
     ]
    }
   ],
   "source": [
    "a=np.arange(1,7).reshape(2,3)\n",
    "print(a)\n",
    "\n",
    "print(\"\\nMean = \",np.mean(a,axis=1))\n",
    "print(\"Standard deviation = \",np.std(a,axis=1))\n",
    "print(\"Variance = \",np.var(a,axis=1))"
   ]
  }
 ],
 "kernelspec": {
  "display_name": "Python 3",
  "language": "python",
  "name": "python3"
 },
 "language_info": {
  "codemirror_mode": {
   "name": "ipython",
   "version": 3
  },
  "file_extension": ".py",
  "mimetype": "text/x-python",
  "name": "python",
  "nbconvert_exporter": "python",
  "pygments_lexer": "ipython3",
  "version": "3.6.4"
 },
 "metadata": {
  "kernelspec": {
   "display_name": "Python 3",
   "language": "python",
   "name": "python3"
  },
  "language_info": {
   "codemirror_mode": {
    "name": "ipython",
    "version": 3
   },
   "file_extension": ".py",
   "mimetype": "text/x-python",
   "name": "python",
   "nbconvert_exporter": "python",
   "pygments_lexer": "ipython3",
   "version": "3.10.12"
  },
  "papermill": {
   "default_parameters": {},
   "duration": 4.502828,
   "end_time": "2023-09-10T11:04:16.323916",
   "environment_variables": {},
   "exception": null,
   "input_path": "__notebook__.ipynb",
   "output_path": "__notebook__.ipynb",
   "parameters": {},
   "start_time": "2023-09-10T11:04:11.821088",
   "version": "2.4.0"
  }
 },
 "nbformat": 4,
 "nbformat_minor": 5
}
