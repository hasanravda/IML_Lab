{
 "cells": [
  {
   "cell_type": "markdown",
   "id": "b4aede39",
   "metadata": {
    "_cell_guid": "b1076dfc-b9ad-4769-8c92-a6c4dae69d19",
    "_uuid": "8f2839f25d086af736a60e9eeb907d3b93b6e0e5",
    "papermill": {
     "duration": 0.00649,
     "end_time": "2023-09-04T18:21:14.488213",
     "exception": false,
     "start_time": "2023-09-04T18:21:14.481723",
     "status": "completed"
    },
    "tags": []
   },
   "source": [
    "# Hasan Ravda     [ 216270307028 ]"
   ]
  },
  {
   "cell_type": "markdown",
   "id": "ec1411ba",
   "metadata": {
    "papermill": {
     "duration": 0.004695,
     "end_time": "2023-09-04T18:21:14.498433",
     "exception": false,
     "start_time": "2023-09-04T18:21:14.493738",
     "status": "completed"
    },
    "tags": []
   },
   "source": [
    "# Write a NumPy program to implement following operation\n"
   ]
  },
  {
   "cell_type": "code",
   "execution_count": 1,
   "id": "847eb140",
   "metadata": {
    "execution": {
     "iopub.execute_input": "2023-09-04T18:21:14.513040Z",
     "iopub.status.busy": "2023-09-04T18:21:14.511596Z",
     "iopub.status.idle": "2023-09-04T18:21:14.525437Z",
     "shell.execute_reply": "2023-09-04T18:21:14.524363Z"
    },
    "papermill": {
     "duration": 0.025261,
     "end_time": "2023-09-04T18:21:14.529109",
     "exception": false,
     "start_time": "2023-09-04T18:21:14.503848",
     "status": "completed"
    },
    "tags": []
   },
   "outputs": [],
   "source": [
    "# Hasan Ravda\n",
    "# 216270307028\n",
    "import numpy as np"
   ]
  },
  {
   "cell_type": "markdown",
   "id": "d47d7693",
   "metadata": {
    "papermill": {
     "duration": 0.005182,
     "end_time": "2023-09-04T18:21:14.539585",
     "exception": false,
     "start_time": "2023-09-04T18:21:14.534403",
     "status": "completed"
    },
    "tags": []
   },
   "source": [
    "# 1. to find the maximum and minimum value of a given flattened array"
   ]
  },
  {
   "cell_type": "code",
   "execution_count": 2,
   "id": "19cc8651",
   "metadata": {
    "execution": {
     "iopub.execute_input": "2023-09-04T18:21:14.555225Z",
     "iopub.status.busy": "2023-09-04T18:21:14.554227Z",
     "iopub.status.idle": "2023-09-04T18:21:14.566664Z",
     "shell.execute_reply": "2023-09-04T18:21:14.565039Z"
    },
    "papermill": {
     "duration": 0.023148,
     "end_time": "2023-09-04T18:21:14.569654",
     "exception": false,
     "start_time": "2023-09-04T18:21:14.546506",
     "status": "completed"
    },
    "tags": []
   },
   "outputs": [
    {
     "name": "stdout",
     "output_type": "stream",
     "text": [
      "Original Array = \n",
      " [[1 2 3]\n",
      " [4 5 6]\n",
      " [7 8 9]]\n",
      "Flattened Array = [1 2 3 4 5 6 7 8 9]\n",
      "\n",
      "Maximum of given flattened array =  9\n",
      "Minimum of array =  1\n"
     ]
    }
   ],
   "source": [
    "arr=np.arange(1,10).reshape(3,3)\n",
    "print(\"Original Array = \\n\",arr)\n",
    "\n",
    "f_arr=arr.flatten()\n",
    "print(\"Flattened Array =\",f_arr)\n",
    "\n",
    "max=np.max(f_arr)\n",
    "print(\"\\nMaximum of given flattened array = \",max)\n",
    "min=np.min(f_arr)\n",
    "print(\"Minimum of array = \",min)"
   ]
  },
  {
   "cell_type": "markdown",
   "id": "46f139e3",
   "metadata": {
    "papermill": {
     "duration": 0.005133,
     "end_time": "2023-09-04T18:21:14.581149",
     "exception": false,
     "start_time": "2023-09-04T18:21:14.576016",
     "status": "completed"
    },
    "tags": []
   },
   "source": [
    "# 2. To compute the mean, standard deviation, and variance of a given array along the second axis"
   ]
  },
  {
   "cell_type": "code",
   "execution_count": 3,
   "id": "94c3ad9e",
   "metadata": {
    "execution": {
     "iopub.execute_input": "2023-09-04T18:21:14.594533Z",
     "iopub.status.busy": "2023-09-04T18:21:14.594112Z",
     "iopub.status.idle": "2023-09-04T18:21:14.606652Z",
     "shell.execute_reply": "2023-09-04T18:21:14.605419Z"
    },
    "papermill": {
     "duration": 0.022988,
     "end_time": "2023-09-04T18:21:14.610154",
     "exception": false,
     "start_time": "2023-09-04T18:21:14.587166",
     "status": "completed"
    },
    "tags": []
   },
   "outputs": [
    {
     "name": "stdout",
     "output_type": "stream",
     "text": [
      "[[1 2 3]\n",
      " [4 5 6]\n",
      " [7 8 9]]\n"
     ]
    },
    {
     "data": {
      "text/plain": [
       "6.666666666666667"
      ]
     },
     "execution_count": 3,
     "metadata": {},
     "output_type": "execute_result"
    }
   ],
   "source": [
    "print(arr)\n",
    "np.mean(arr)\n",
    "np.std(arr)\n",
    "np.var(arr)"
   ]
  }
 ],
 "kernelspec": {
  "display_name": "Python 3",
  "language": "python",
  "name": "python3"
 },
 "language_info": {
  "codemirror_mode": {
   "name": "ipython",
   "version": 3
  },
  "file_extension": ".py",
  "mimetype": "text/x-python",
  "name": "python",
  "nbconvert_exporter": "python",
  "pygments_lexer": "ipython3",
  "version": "3.6.4"
 },
 "metadata": {
  "kernelspec": {
   "display_name": "Python 3",
   "language": "python",
   "name": "python3"
  },
  "language_info": {
   "codemirror_mode": {
    "name": "ipython",
    "version": 3
   },
   "file_extension": ".py",
   "mimetype": "text/x-python",
   "name": "python",
   "nbconvert_exporter": "python",
   "pygments_lexer": "ipython3",
   "version": "3.10.12"
  },
  "papermill": {
   "default_parameters": {},
   "duration": 4.638403,
   "end_time": "2023-09-04T18:21:15.138673",
   "environment_variables": {},
   "exception": null,
   "input_path": "__notebook__.ipynb",
   "output_path": "__notebook__.ipynb",
   "parameters": {},
   "start_time": "2023-09-04T18:21:10.500270",
   "version": "2.4.0"
  }
 },
 "nbformat": 4,
 "nbformat_minor": 5
}
