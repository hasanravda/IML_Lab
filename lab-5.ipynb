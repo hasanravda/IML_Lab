{
 "cells": [
  {
   "cell_type": "markdown",
   "id": "62512c88",
   "metadata": {
    "_cell_guid": "b1076dfc-b9ad-4769-8c92-a6c4dae69d19",
    "_uuid": "8f2839f25d086af736a60e9eeb907d3b93b6e0e5",
    "papermill": {
     "duration": 0.005004,
     "end_time": "2023-09-08T07:31:06.251213",
     "exception": false,
     "start_time": "2023-09-08T07:31:06.246209",
     "status": "completed"
    },
    "tags": []
   },
   "source": [
    "## *Hasan Ravda     [ 216270307028 ]*"
   ]
  },
  {
   "cell_type": "markdown",
   "id": "d832a583",
   "metadata": {
    "papermill": {
     "duration": 0.003883,
     "end_time": "2023-09-08T07:31:06.259324",
     "exception": false,
     "start_time": "2023-09-08T07:31:06.255441",
     "status": "completed"
    },
    "tags": []
   },
   "source": [
    "# Write a NumPy program to implement following operation\n"
   ]
  },
  {
   "cell_type": "code",
   "execution_count": 1,
   "id": "aae3ed13",
   "metadata": {
    "execution": {
     "iopub.execute_input": "2023-09-08T07:31:06.269510Z",
     "iopub.status.busy": "2023-09-08T07:31:06.268843Z",
     "iopub.status.idle": "2023-09-08T07:31:06.279283Z",
     "shell.execute_reply": "2023-09-08T07:31:06.278222Z"
    },
    "papermill": {
     "duration": 0.018096,
     "end_time": "2023-09-08T07:31:06.281506",
     "exception": false,
     "start_time": "2023-09-08T07:31:06.263410",
     "status": "completed"
    },
    "tags": []
   },
   "outputs": [],
   "source": [
    "# Hasan Ravda\n",
    "# 216270307028\n",
    "import numpy as np"
   ]
  },
  {
   "cell_type": "markdown",
   "id": "8e1ed079",
   "metadata": {
    "papermill": {
     "duration": 0.003909,
     "end_time": "2023-09-08T07:31:06.289350",
     "exception": false,
     "start_time": "2023-09-08T07:31:06.285441",
     "status": "completed"
    },
    "tags": []
   },
   "source": [
    "### 1. to find the maximum and minimum value of a given flattened array"
   ]
  },
  {
   "cell_type": "code",
   "execution_count": 2,
   "id": "dbeb03aa",
   "metadata": {
    "execution": {
     "iopub.execute_input": "2023-09-08T07:31:06.298893Z",
     "iopub.status.busy": "2023-09-08T07:31:06.298563Z",
     "iopub.status.idle": "2023-09-08T07:31:06.307443Z",
     "shell.execute_reply": "2023-09-08T07:31:06.306351Z"
    },
    "papermill": {
     "duration": 0.016259,
     "end_time": "2023-09-08T07:31:06.309619",
     "exception": false,
     "start_time": "2023-09-08T07:31:06.293360",
     "status": "completed"
    },
    "tags": []
   },
   "outputs": [
    {
     "name": "stdout",
     "output_type": "stream",
     "text": [
      "Original Array = \n",
      " [[1 2 3]\n",
      " [4 5 6]\n",
      " [7 8 9]]\n",
      "Flattened Array = [1 2 3 4 5 6 7 8 9]\n",
      "\n",
      "Maximum of given flattened array =  9\n",
      "Minimum of array =  1\n"
     ]
    }
   ],
   "source": [
    "arr=np.arange(1,10).reshape(3,3)\n",
    "print(\"Original Array = \\n\",arr)\n",
    "\n",
    "f_arr=arr.flatten()\n",
    "print(\"Flattened Array =\",f_arr)\n",
    "\n",
    "max=np.max(f_arr)\n",
    "print(\"\\nMaximum of given flattened array = \",max)\n",
    "min=np.min(f_arr)\n",
    "print(\"Minimum of array = \",min)"
   ]
  },
  {
   "cell_type": "markdown",
   "id": "535a456f",
   "metadata": {
    "papermill": {
     "duration": 0.004003,
     "end_time": "2023-09-08T07:31:06.317889",
     "exception": false,
     "start_time": "2023-09-08T07:31:06.313886",
     "status": "completed"
    },
    "tags": []
   },
   "source": [
    "### 2. To compute the mean, standard deviation, and variance of a given array along the second axis"
   ]
  },
  {
   "cell_type": "code",
   "execution_count": 3,
   "id": "2fd29fcb",
   "metadata": {
    "execution": {
     "iopub.execute_input": "2023-09-08T07:31:06.327933Z",
     "iopub.status.busy": "2023-09-08T07:31:06.327603Z",
     "iopub.status.idle": "2023-09-08T07:31:06.335175Z",
     "shell.execute_reply": "2023-09-08T07:31:06.334133Z"
    },
    "papermill": {
     "duration": 0.015002,
     "end_time": "2023-09-08T07:31:06.337347",
     "exception": false,
     "start_time": "2023-09-08T07:31:06.322345",
     "status": "completed"
    },
    "tags": []
   },
   "outputs": [
    {
     "name": "stdout",
     "output_type": "stream",
     "text": [
      "[[1 2 3]\n",
      " [4 5 6]]\n",
      "Mean =  [2. 5.]\n",
      "Standard deviation =  [0.81649658 0.81649658]\n",
      "Variance =  [0.66666667 0.66666667]\n"
     ]
    }
   ],
   "source": [
    "a=np.arange(1,7).reshape(2,3)\n",
    "print(a)\n",
    "print(\"Mean = \",np.mean(a,axis=1))\n",
    "print(\"Standard deviation = \",np.std(a,axis=1))\n",
    "print(\"Variance = \",np.var(a,axis=1))"
   ]
  }
 ],
 "kernelspec": {
  "display_name": "Python 3",
  "language": "python",
  "name": "python3"
 },
 "language_info": {
  "codemirror_mode": {
   "name": "ipython",
   "version": 3
  },
  "file_extension": ".py",
  "mimetype": "text/x-python",
  "name": "python",
  "nbconvert_exporter": "python",
  "pygments_lexer": "ipython3",
  "version": "3.6.4"
 },
 "metadata": {
  "kernelspec": {
   "display_name": "Python 3",
   "language": "python",
   "name": "python3"
  },
  "language_info": {
   "codemirror_mode": {
    "name": "ipython",
    "version": 3
   },
   "file_extension": ".py",
   "mimetype": "text/x-python",
   "name": "python",
   "nbconvert_exporter": "python",
   "pygments_lexer": "ipython3",
   "version": "3.10.12"
  },
  "papermill": {
   "default_parameters": {},
   "duration": 3.797112,
   "end_time": "2023-09-08T07:31:06.659860",
   "environment_variables": {},
   "exception": null,
   "input_path": "__notebook__.ipynb",
   "output_path": "__notebook__.ipynb",
   "parameters": {},
   "start_time": "2023-09-08T07:31:02.862748",
   "version": "2.4.0"
  }
 },
 "nbformat": 4,
 "nbformat_minor": 5
}
