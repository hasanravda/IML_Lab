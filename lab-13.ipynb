{
 "cells": [
  {
   "cell_type": "markdown",
   "id": "18c5feee",
   "metadata": {
    "_cell_guid": "b1076dfc-b9ad-4769-8c92-a6c4dae69d19",
    "_uuid": "8f2839f25d086af736a60e9eeb907d3b93b6e0e5",
    "papermill": {
     "duration": 0.003441,
     "end_time": "2023-11-04T17:37:42.581450",
     "exception": false,
     "start_time": "2023-11-04T17:37:42.578009",
     "status": "completed"
    },
    "tags": []
   },
   "source": [
    "## Lab 13\n",
    "### *Hasan Ravda [ 216270307028 ]*"
   ]
  },
  {
   "cell_type": "markdown",
   "id": "6484a917",
   "metadata": {
    "papermill": {
     "duration": 0.003021,
     "end_time": "2023-11-04T17:37:42.589784",
     "exception": false,
     "start_time": "2023-11-04T17:37:42.586763",
     "status": "completed"
    },
    "tags": []
   },
   "source": [
    "# Write a Python program to implement K-Nearest Neighbour supervised machine learning algorithm for given dataset. "
   ]
  },
  {
   "cell_type": "code",
   "execution_count": 1,
   "id": "8fc537d0",
   "metadata": {
    "execution": {
     "iopub.execute_input": "2023-11-04T17:37:42.598180Z",
     "iopub.status.busy": "2023-11-04T17:37:42.597714Z",
     "iopub.status.idle": "2023-11-04T17:37:44.389931Z",
     "shell.execute_reply": "2023-11-04T17:37:44.388362Z"
    },
    "papermill": {
     "duration": 1.799851,
     "end_time": "2023-11-04T17:37:44.392830",
     "exception": false,
     "start_time": "2023-11-04T17:37:42.592979",
     "status": "completed"
    },
    "tags": []
   },
   "outputs": [],
   "source": [
    "import numpy as np\n",
    "import pandas as pd\n",
    "from sklearn.model_selection import train_test_split\n",
    "from sklearn.preprocessing import StandardScaler\n",
    "from sklearn.neighbors import KNeighborsClassifier\n",
    "from sklearn.metrics import accuracy_score"
   ]
  },
  {
   "cell_type": "code",
   "execution_count": 2,
   "id": "3fc3d3ed",
   "metadata": {
    "execution": {
     "iopub.execute_input": "2023-11-04T17:37:44.401623Z",
     "iopub.status.busy": "2023-11-04T17:37:44.400650Z",
     "iopub.status.idle": "2023-11-04T17:37:44.448679Z",
     "shell.execute_reply": "2023-11-04T17:37:44.446903Z"
    },
    "papermill": {
     "duration": 0.055444,
     "end_time": "2023-11-04T17:37:44.451609",
     "exception": false,
     "start_time": "2023-11-04T17:37:44.396165",
     "status": "completed"
    },
    "tags": []
   },
   "outputs": [
    {
     "data": {
      "text/html": [
       "<div>\n",
       "<style scoped>\n",
       "    .dataframe tbody tr th:only-of-type {\n",
       "        vertical-align: middle;\n",
       "    }\n",
       "\n",
       "    .dataframe tbody tr th {\n",
       "        vertical-align: top;\n",
       "    }\n",
       "\n",
       "    .dataframe thead th {\n",
       "        text-align: right;\n",
       "    }\n",
       "</style>\n",
       "<table border=\"1\" class=\"dataframe\">\n",
       "  <thead>\n",
       "    <tr style=\"text-align: right;\">\n",
       "      <th></th>\n",
       "      <th>age</th>\n",
       "      <th>anaemia</th>\n",
       "      <th>creatinine_phosphokinase</th>\n",
       "      <th>diabetes</th>\n",
       "      <th>ejection_fraction</th>\n",
       "      <th>high_blood_pressure</th>\n",
       "      <th>platelets</th>\n",
       "      <th>serum_creatinine</th>\n",
       "      <th>serum_sodium</th>\n",
       "      <th>sex</th>\n",
       "      <th>smoking</th>\n",
       "      <th>time</th>\n",
       "      <th>DEATH_EVENT</th>\n",
       "    </tr>\n",
       "  </thead>\n",
       "  <tbody>\n",
       "    <tr>\n",
       "      <th>0</th>\n",
       "      <td>75.0</td>\n",
       "      <td>0</td>\n",
       "      <td>582</td>\n",
       "      <td>0</td>\n",
       "      <td>20</td>\n",
       "      <td>1</td>\n",
       "      <td>265000.00</td>\n",
       "      <td>1.9</td>\n",
       "      <td>130</td>\n",
       "      <td>1</td>\n",
       "      <td>0</td>\n",
       "      <td>4</td>\n",
       "      <td>1</td>\n",
       "    </tr>\n",
       "    <tr>\n",
       "      <th>1</th>\n",
       "      <td>55.0</td>\n",
       "      <td>0</td>\n",
       "      <td>7861</td>\n",
       "      <td>0</td>\n",
       "      <td>38</td>\n",
       "      <td>0</td>\n",
       "      <td>263358.03</td>\n",
       "      <td>1.1</td>\n",
       "      <td>136</td>\n",
       "      <td>1</td>\n",
       "      <td>0</td>\n",
       "      <td>6</td>\n",
       "      <td>1</td>\n",
       "    </tr>\n",
       "    <tr>\n",
       "      <th>2</th>\n",
       "      <td>65.0</td>\n",
       "      <td>0</td>\n",
       "      <td>146</td>\n",
       "      <td>0</td>\n",
       "      <td>20</td>\n",
       "      <td>0</td>\n",
       "      <td>162000.00</td>\n",
       "      <td>1.3</td>\n",
       "      <td>129</td>\n",
       "      <td>1</td>\n",
       "      <td>1</td>\n",
       "      <td>7</td>\n",
       "      <td>1</td>\n",
       "    </tr>\n",
       "    <tr>\n",
       "      <th>3</th>\n",
       "      <td>50.0</td>\n",
       "      <td>1</td>\n",
       "      <td>111</td>\n",
       "      <td>0</td>\n",
       "      <td>20</td>\n",
       "      <td>0</td>\n",
       "      <td>210000.00</td>\n",
       "      <td>1.9</td>\n",
       "      <td>137</td>\n",
       "      <td>1</td>\n",
       "      <td>0</td>\n",
       "      <td>7</td>\n",
       "      <td>1</td>\n",
       "    </tr>\n",
       "    <tr>\n",
       "      <th>4</th>\n",
       "      <td>65.0</td>\n",
       "      <td>1</td>\n",
       "      <td>160</td>\n",
       "      <td>1</td>\n",
       "      <td>20</td>\n",
       "      <td>0</td>\n",
       "      <td>327000.00</td>\n",
       "      <td>2.7</td>\n",
       "      <td>116</td>\n",
       "      <td>0</td>\n",
       "      <td>0</td>\n",
       "      <td>8</td>\n",
       "      <td>1</td>\n",
       "    </tr>\n",
       "  </tbody>\n",
       "</table>\n",
       "</div>"
      ],
      "text/plain": [
       "    age  anaemia  creatinine_phosphokinase  diabetes  ejection_fraction  \\\n",
       "0  75.0        0                       582         0                 20   \n",
       "1  55.0        0                      7861         0                 38   \n",
       "2  65.0        0                       146         0                 20   \n",
       "3  50.0        1                       111         0                 20   \n",
       "4  65.0        1                       160         1                 20   \n",
       "\n",
       "   high_blood_pressure  platelets  serum_creatinine  serum_sodium  sex  \\\n",
       "0                    1  265000.00               1.9           130    1   \n",
       "1                    0  263358.03               1.1           136    1   \n",
       "2                    0  162000.00               1.3           129    1   \n",
       "3                    0  210000.00               1.9           137    1   \n",
       "4                    0  327000.00               2.7           116    0   \n",
       "\n",
       "   smoking  time  DEATH_EVENT  \n",
       "0        0     4            1  \n",
       "1        0     6            1  \n",
       "2        1     7            1  \n",
       "3        0     7            1  \n",
       "4        0     8            1  "
      ]
     },
     "execution_count": 2,
     "metadata": {},
     "output_type": "execute_result"
    }
   ],
   "source": [
    "df = pd.read_csv('/kaggle/input/heart-failure-clinical-data/heart_failure_clinical_records_dataset.csv')\n",
    "df.head()"
   ]
  },
  {
   "cell_type": "code",
   "execution_count": 3,
   "id": "0c923a4d",
   "metadata": {
    "execution": {
     "iopub.execute_input": "2023-11-04T17:37:44.461182Z",
     "iopub.status.busy": "2023-11-04T17:37:44.459762Z",
     "iopub.status.idle": "2023-11-04T17:37:44.472839Z",
     "shell.execute_reply": "2023-11-04T17:37:44.471776Z"
    },
    "papermill": {
     "duration": 0.020227,
     "end_time": "2023-11-04T17:37:44.475354",
     "exception": false,
     "start_time": "2023-11-04T17:37:44.455127",
     "status": "completed"
    },
    "tags": []
   },
   "outputs": [],
   "source": [
    "X = df[['ejection_fraction','serum_creatinine','time','serum_sodium','age']]\n",
    "Y = df['DEATH_EVENT']"
   ]
  },
  {
   "cell_type": "code",
   "execution_count": 4,
   "id": "9093f61c",
   "metadata": {
    "execution": {
     "iopub.execute_input": "2023-11-04T17:37:44.483965Z",
     "iopub.status.busy": "2023-11-04T17:37:44.483565Z",
     "iopub.status.idle": "2023-11-04T17:37:44.504059Z",
     "shell.execute_reply": "2023-11-04T17:37:44.502480Z"
    },
    "papermill": {
     "duration": 0.028319,
     "end_time": "2023-11-04T17:37:44.507184",
     "exception": false,
     "start_time": "2023-11-04T17:37:44.478865",
     "status": "completed"
    },
    "tags": []
   },
   "outputs": [
    {
     "data": {
      "text/html": [
       "<div>\n",
       "<style scoped>\n",
       "    .dataframe tbody tr th:only-of-type {\n",
       "        vertical-align: middle;\n",
       "    }\n",
       "\n",
       "    .dataframe tbody tr th {\n",
       "        vertical-align: top;\n",
       "    }\n",
       "\n",
       "    .dataframe thead th {\n",
       "        text-align: right;\n",
       "    }\n",
       "</style>\n",
       "<table border=\"1\" class=\"dataframe\">\n",
       "  <thead>\n",
       "    <tr style=\"text-align: right;\">\n",
       "      <th></th>\n",
       "      <th>ejection_fraction</th>\n",
       "      <th>serum_creatinine</th>\n",
       "      <th>time</th>\n",
       "      <th>serum_sodium</th>\n",
       "      <th>age</th>\n",
       "    </tr>\n",
       "  </thead>\n",
       "  <tbody>\n",
       "    <tr>\n",
       "      <th>0</th>\n",
       "      <td>20</td>\n",
       "      <td>1.9</td>\n",
       "      <td>4</td>\n",
       "      <td>130</td>\n",
       "      <td>75.0</td>\n",
       "    </tr>\n",
       "    <tr>\n",
       "      <th>1</th>\n",
       "      <td>38</td>\n",
       "      <td>1.1</td>\n",
       "      <td>6</td>\n",
       "      <td>136</td>\n",
       "      <td>55.0</td>\n",
       "    </tr>\n",
       "    <tr>\n",
       "      <th>2</th>\n",
       "      <td>20</td>\n",
       "      <td>1.3</td>\n",
       "      <td>7</td>\n",
       "      <td>129</td>\n",
       "      <td>65.0</td>\n",
       "    </tr>\n",
       "    <tr>\n",
       "      <th>3</th>\n",
       "      <td>20</td>\n",
       "      <td>1.9</td>\n",
       "      <td>7</td>\n",
       "      <td>137</td>\n",
       "      <td>50.0</td>\n",
       "    </tr>\n",
       "    <tr>\n",
       "      <th>4</th>\n",
       "      <td>20</td>\n",
       "      <td>2.7</td>\n",
       "      <td>8</td>\n",
       "      <td>116</td>\n",
       "      <td>65.0</td>\n",
       "    </tr>\n",
       "    <tr>\n",
       "      <th>...</th>\n",
       "      <td>...</td>\n",
       "      <td>...</td>\n",
       "      <td>...</td>\n",
       "      <td>...</td>\n",
       "      <td>...</td>\n",
       "    </tr>\n",
       "    <tr>\n",
       "      <th>294</th>\n",
       "      <td>38</td>\n",
       "      <td>1.1</td>\n",
       "      <td>270</td>\n",
       "      <td>143</td>\n",
       "      <td>62.0</td>\n",
       "    </tr>\n",
       "    <tr>\n",
       "      <th>295</th>\n",
       "      <td>38</td>\n",
       "      <td>1.2</td>\n",
       "      <td>271</td>\n",
       "      <td>139</td>\n",
       "      <td>55.0</td>\n",
       "    </tr>\n",
       "    <tr>\n",
       "      <th>296</th>\n",
       "      <td>60</td>\n",
       "      <td>0.8</td>\n",
       "      <td>278</td>\n",
       "      <td>138</td>\n",
       "      <td>45.0</td>\n",
       "    </tr>\n",
       "    <tr>\n",
       "      <th>297</th>\n",
       "      <td>38</td>\n",
       "      <td>1.4</td>\n",
       "      <td>280</td>\n",
       "      <td>140</td>\n",
       "      <td>45.0</td>\n",
       "    </tr>\n",
       "    <tr>\n",
       "      <th>298</th>\n",
       "      <td>45</td>\n",
       "      <td>1.6</td>\n",
       "      <td>285</td>\n",
       "      <td>136</td>\n",
       "      <td>50.0</td>\n",
       "    </tr>\n",
       "  </tbody>\n",
       "</table>\n",
       "<p>299 rows × 5 columns</p>\n",
       "</div>"
      ],
      "text/plain": [
       "     ejection_fraction  serum_creatinine  time  serum_sodium   age\n",
       "0                   20               1.9     4           130  75.0\n",
       "1                   38               1.1     6           136  55.0\n",
       "2                   20               1.3     7           129  65.0\n",
       "3                   20               1.9     7           137  50.0\n",
       "4                   20               2.7     8           116  65.0\n",
       "..                 ...               ...   ...           ...   ...\n",
       "294                 38               1.1   270           143  62.0\n",
       "295                 38               1.2   271           139  55.0\n",
       "296                 60               0.8   278           138  45.0\n",
       "297                 38               1.4   280           140  45.0\n",
       "298                 45               1.6   285           136  50.0\n",
       "\n",
       "[299 rows x 5 columns]"
      ]
     },
     "execution_count": 4,
     "metadata": {},
     "output_type": "execute_result"
    }
   ],
   "source": [
    "X"
   ]
  },
  {
   "cell_type": "code",
   "execution_count": 5,
   "id": "6540f724",
   "metadata": {
    "execution": {
     "iopub.execute_input": "2023-11-04T17:37:44.517300Z",
     "iopub.status.busy": "2023-11-04T17:37:44.516927Z",
     "iopub.status.idle": "2023-11-04T17:37:44.526887Z",
     "shell.execute_reply": "2023-11-04T17:37:44.525057Z"
    },
    "papermill": {
     "duration": 0.017904,
     "end_time": "2023-11-04T17:37:44.529289",
     "exception": false,
     "start_time": "2023-11-04T17:37:44.511385",
     "status": "completed"
    },
    "tags": []
   },
   "outputs": [
    {
     "data": {
      "text/plain": [
       "0      1\n",
       "1      1\n",
       "2      1\n",
       "3      1\n",
       "4      1\n",
       "      ..\n",
       "294    0\n",
       "295    0\n",
       "296    0\n",
       "297    0\n",
       "298    0\n",
       "Name: DEATH_EVENT, Length: 299, dtype: int64"
      ]
     },
     "execution_count": 5,
     "metadata": {},
     "output_type": "execute_result"
    }
   ],
   "source": [
    "Y"
   ]
  },
  {
   "cell_type": "code",
   "execution_count": 6,
   "id": "b5ec53dd",
   "metadata": {
    "execution": {
     "iopub.execute_input": "2023-11-04T17:37:44.538696Z",
     "iopub.status.busy": "2023-11-04T17:37:44.538318Z",
     "iopub.status.idle": "2023-11-04T17:37:44.545190Z",
     "shell.execute_reply": "2023-11-04T17:37:44.544314Z"
    },
    "papermill": {
     "duration": 0.014372,
     "end_time": "2023-11-04T17:37:44.547560",
     "exception": false,
     "start_time": "2023-11-04T17:37:44.533188",
     "status": "completed"
    },
    "tags": []
   },
   "outputs": [],
   "source": [
    "X_train, X_test, Y_train, Y_test = train_test_split(X,Y,\n",
    "                                                    test_size=0.30)"
   ]
  },
  {
   "cell_type": "code",
   "execution_count": 7,
   "id": "8f284522",
   "metadata": {
    "execution": {
     "iopub.execute_input": "2023-11-04T17:37:44.557373Z",
     "iopub.status.busy": "2023-11-04T17:37:44.556984Z",
     "iopub.status.idle": "2023-11-04T17:37:44.575795Z",
     "shell.execute_reply": "2023-11-04T17:37:44.574574Z"
    },
    "papermill": {
     "duration": 0.027054,
     "end_time": "2023-11-04T17:37:44.578517",
     "exception": false,
     "start_time": "2023-11-04T17:37:44.551463",
     "status": "completed"
    },
    "tags": []
   },
   "outputs": [],
   "source": [
    "knn = KNeighborsClassifier(n_neighbors=5)\n",
    "knn.fit(X_train,Y_train)\n",
    "pred = knn.predict(X_test)"
   ]
  },
  {
   "cell_type": "code",
   "execution_count": 8,
   "id": "2cbcf81f",
   "metadata": {
    "execution": {
     "iopub.execute_input": "2023-11-04T17:37:44.588022Z",
     "iopub.status.busy": "2023-11-04T17:37:44.587565Z",
     "iopub.status.idle": "2023-11-04T17:37:44.596098Z",
     "shell.execute_reply": "2023-11-04T17:37:44.594558Z"
    },
    "papermill": {
     "duration": 0.016695,
     "end_time": "2023-11-04T17:37:44.599052",
     "exception": false,
     "start_time": "2023-11-04T17:37:44.582357",
     "status": "completed"
    },
    "tags": []
   },
   "outputs": [
    {
     "name": "stdout",
     "output_type": "stream",
     "text": [
      "Accuracy :  85.55555555555556\n"
     ]
    }
   ],
   "source": [
    "a=accuracy_score(Y_test, pred) \n",
    "print(\"Accuracy : \" ,a*100)"
   ]
  }
 ],
 "metadata": {
  "kernelspec": {
   "display_name": "Python 3",
   "language": "python",
   "name": "python3"
  },
  "language_info": {
   "codemirror_mode": {
    "name": "ipython",
    "version": 3
   },
   "file_extension": ".py",
   "mimetype": "text/x-python",
   "name": "python",
   "nbconvert_exporter": "python",
   "pygments_lexer": "ipython3",
   "version": "3.10.12"
  },
  "papermill": {
   "default_parameters": {},
   "duration": 5.883398,
   "end_time": "2023-11-04T17:37:45.225943",
   "environment_variables": {},
   "exception": null,
   "input_path": "__notebook__.ipynb",
   "output_path": "__notebook__.ipynb",
   "parameters": {},
   "start_time": "2023-11-04T17:37:39.342545",
   "version": "2.4.0"
  }
 },
 "nbformat": 4,
 "nbformat_minor": 5
}
