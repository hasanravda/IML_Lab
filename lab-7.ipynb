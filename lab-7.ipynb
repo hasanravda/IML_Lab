{
 "cells": [
  {
   "cell_type": "markdown",
   "id": "1b436ec5",
   "metadata": {
    "_cell_guid": "b1076dfc-b9ad-4769-8c92-a6c4dae69d19",
    "_uuid": "8f2839f25d086af736a60e9eeb907d3b93b6e0e5",
    "papermill": {
     "duration": 0.006736,
     "end_time": "2023-09-08T15:20:30.286620",
     "exception": false,
     "start_time": "2023-09-08T15:20:30.279884",
     "status": "completed"
    },
    "tags": []
   },
   "source": [
    "## Lab 7\n",
    "### *Hasan Ravda [ 216270307028 ]*\n"
   ]
  },
  {
   "cell_type": "markdown",
   "id": "70dc742e",
   "metadata": {
    "papermill": {
     "duration": 0.005806,
     "end_time": "2023-09-08T15:20:30.298767",
     "exception": false,
     "start_time": "2023-09-08T15:20:30.292961",
     "status": "completed"
    },
    "tags": []
   },
   "source": [
    "## Write a Pandas program to implement following operation"
   ]
  },
  {
   "cell_type": "code",
   "execution_count": 1,
   "id": "f0cfc5f0",
   "metadata": {
    "execution": {
     "iopub.execute_input": "2023-09-08T15:20:30.312994Z",
     "iopub.status.busy": "2023-09-08T15:20:30.312473Z",
     "iopub.status.idle": "2023-09-08T15:20:30.745860Z",
     "shell.execute_reply": "2023-09-08T15:20:30.744620Z"
    },
    "papermill": {
     "duration": 0.444065,
     "end_time": "2023-09-08T15:20:30.748765",
     "exception": false,
     "start_time": "2023-09-08T15:20:30.304700",
     "status": "completed"
    },
    "tags": []
   },
   "outputs": [],
   "source": [
    "import pandas as pd\n",
    "import numpy as np"
   ]
  },
  {
   "cell_type": "markdown",
   "id": "81f57dd9",
   "metadata": {
    "papermill": {
     "duration": 0.005852,
     "end_time": "2023-09-08T15:20:30.761342",
     "exception": false,
     "start_time": "2023-09-08T15:20:30.755490",
     "status": "completed"
    },
    "tags": []
   },
   "source": [
    "### 1. To create a dataframe from a dictionary and display it"
   ]
  },
  {
   "cell_type": "code",
   "execution_count": 2,
   "id": "fbf19cc8",
   "metadata": {
    "execution": {
     "iopub.execute_input": "2023-09-08T15:20:30.775435Z",
     "iopub.status.busy": "2023-09-08T15:20:30.774842Z",
     "iopub.status.idle": "2023-09-08T15:20:30.803367Z",
     "shell.execute_reply": "2023-09-08T15:20:30.801749Z"
    },
    "papermill": {
     "duration": 0.038754,
     "end_time": "2023-09-08T15:20:30.806082",
     "exception": false,
     "start_time": "2023-09-08T15:20:30.767328",
     "status": "completed"
    },
    "tags": []
   },
   "outputs": [
    {
     "data": {
      "text/html": [
       "<div>\n",
       "<style scoped>\n",
       "    .dataframe tbody tr th:only-of-type {\n",
       "        vertical-align: middle;\n",
       "    }\n",
       "\n",
       "    .dataframe tbody tr th {\n",
       "        vertical-align: top;\n",
       "    }\n",
       "\n",
       "    .dataframe thead th {\n",
       "        text-align: right;\n",
       "    }\n",
       "</style>\n",
       "<table border=\"1\" class=\"dataframe\">\n",
       "  <thead>\n",
       "    <tr style=\"text-align: right;\">\n",
       "      <th></th>\n",
       "      <th>product</th>\n",
       "      <th>cost</th>\n",
       "      <th>mrp</th>\n",
       "    </tr>\n",
       "  </thead>\n",
       "  <tbody>\n",
       "    <tr>\n",
       "      <th>0</th>\n",
       "      <td>a</td>\n",
       "      <td>100</td>\n",
       "      <td>105</td>\n",
       "    </tr>\n",
       "    <tr>\n",
       "      <th>1</th>\n",
       "      <td>b</td>\n",
       "      <td>200</td>\n",
       "      <td>210</td>\n",
       "    </tr>\n",
       "    <tr>\n",
       "      <th>2</th>\n",
       "      <td>c</td>\n",
       "      <td>300</td>\n",
       "      <td>315</td>\n",
       "    </tr>\n",
       "    <tr>\n",
       "      <th>3</th>\n",
       "      <td>d</td>\n",
       "      <td>400</td>\n",
       "      <td>420</td>\n",
       "    </tr>\n",
       "    <tr>\n",
       "      <th>4</th>\n",
       "      <td>e</td>\n",
       "      <td>500</td>\n",
       "      <td>525</td>\n",
       "    </tr>\n",
       "  </tbody>\n",
       "</table>\n",
       "</div>"
      ],
      "text/plain": [
       "  product  cost  mrp\n",
       "0       a   100  105\n",
       "1       b   200  210\n",
       "2       c   300  315\n",
       "3       d   400  420\n",
       "4       e   500  525"
      ]
     },
     "execution_count": 2,
     "metadata": {},
     "output_type": "execute_result"
    }
   ],
   "source": [
    "dict = {\n",
    "    \"product\" : ['a','b','c','d','e'],\n",
    "    \"cost\" : [100,200,300,400,500],\n",
    "    \"mrp\" : [105,210,315,420,525]\n",
    "}\n",
    "df = pd.DataFrame(dict)\n",
    "df"
   ]
  },
  {
   "cell_type": "markdown",
   "id": "c6ba10e9",
   "metadata": {
    "papermill": {
     "duration": 0.006329,
     "end_time": "2023-09-08T15:20:30.818999",
     "exception": false,
     "start_time": "2023-09-08T15:20:30.812670",
     "status": "completed"
    },
    "tags": []
   },
   "source": [
    "### 2. To sort the DataFrame first by 'name' in ascending order"
   ]
  },
  {
   "cell_type": "code",
   "execution_count": 3,
   "id": "a2567b35",
   "metadata": {
    "execution": {
     "iopub.execute_input": "2023-09-08T15:20:30.834233Z",
     "iopub.status.busy": "2023-09-08T15:20:30.833216Z",
     "iopub.status.idle": "2023-09-08T15:20:30.854446Z",
     "shell.execute_reply": "2023-09-08T15:20:30.853515Z"
    },
    "papermill": {
     "duration": 0.031502,
     "end_time": "2023-09-08T15:20:30.856954",
     "exception": false,
     "start_time": "2023-09-08T15:20:30.825452",
     "status": "completed"
    },
    "tags": []
   },
   "outputs": [
    {
     "data": {
      "text/html": [
       "<div>\n",
       "<style scoped>\n",
       "    .dataframe tbody tr th:only-of-type {\n",
       "        vertical-align: middle;\n",
       "    }\n",
       "\n",
       "    .dataframe tbody tr th {\n",
       "        vertical-align: top;\n",
       "    }\n",
       "\n",
       "    .dataframe thead th {\n",
       "        text-align: right;\n",
       "    }\n",
       "</style>\n",
       "<table border=\"1\" class=\"dataframe\">\n",
       "  <thead>\n",
       "    <tr style=\"text-align: right;\">\n",
       "      <th></th>\n",
       "      <th>name</th>\n",
       "      <th>age</th>\n",
       "    </tr>\n",
       "  </thead>\n",
       "  <tbody>\n",
       "    <tr>\n",
       "      <th>2</th>\n",
       "      <td>Dhoni</td>\n",
       "      <td>42</td>\n",
       "    </tr>\n",
       "    <tr>\n",
       "      <th>1</th>\n",
       "      <td>Kohli</td>\n",
       "      <td>39</td>\n",
       "    </tr>\n",
       "    <tr>\n",
       "      <th>3</th>\n",
       "      <td>Rahul</td>\n",
       "      <td>37</td>\n",
       "    </tr>\n",
       "    <tr>\n",
       "      <th>0</th>\n",
       "      <td>Sachin</td>\n",
       "      <td>50</td>\n",
       "    </tr>\n",
       "  </tbody>\n",
       "</table>\n",
       "</div>"
      ],
      "text/plain": [
       "     name  age\n",
       "2   Dhoni   42\n",
       "1   Kohli   39\n",
       "3   Rahul   37\n",
       "0  Sachin   50"
      ]
     },
     "execution_count": 3,
     "metadata": {},
     "output_type": "execute_result"
    }
   ],
   "source": [
    "cricket_df=pd.DataFrame({\"name\":[\"Sachin\",\"Kohli\",\"Dhoni\",\"Rahul\"],\"age\":[50,39,42,37]})\n",
    "sort_name=cricket_df.sort_values(by=\"name\")\n",
    "sort_name"
   ]
  },
  {
   "cell_type": "markdown",
   "id": "85b30aef",
   "metadata": {
    "papermill": {
     "duration": 0.006297,
     "end_time": "2023-09-08T15:20:30.870139",
     "exception": false,
     "start_time": "2023-09-08T15:20:30.863842",
     "status": "completed"
    },
    "tags": []
   },
   "source": [
    "### 3. To delete the one specific column from the DataFrame"
   ]
  },
  {
   "cell_type": "code",
   "execution_count": 4,
   "id": "e13c7e50",
   "metadata": {
    "execution": {
     "iopub.execute_input": "2023-09-08T15:20:30.885165Z",
     "iopub.status.busy": "2023-09-08T15:20:30.884762Z",
     "iopub.status.idle": "2023-09-08T15:20:30.895800Z",
     "shell.execute_reply": "2023-09-08T15:20:30.894507Z"
    },
    "papermill": {
     "duration": 0.021474,
     "end_time": "2023-09-08T15:20:30.898276",
     "exception": false,
     "start_time": "2023-09-08T15:20:30.876802",
     "status": "completed"
    },
    "tags": []
   },
   "outputs": [
    {
     "data": {
      "text/html": [
       "<div>\n",
       "<style scoped>\n",
       "    .dataframe tbody tr th:only-of-type {\n",
       "        vertical-align: middle;\n",
       "    }\n",
       "\n",
       "    .dataframe tbody tr th {\n",
       "        vertical-align: top;\n",
       "    }\n",
       "\n",
       "    .dataframe thead th {\n",
       "        text-align: right;\n",
       "    }\n",
       "</style>\n",
       "<table border=\"1\" class=\"dataframe\">\n",
       "  <thead>\n",
       "    <tr style=\"text-align: right;\">\n",
       "      <th></th>\n",
       "      <th>product</th>\n",
       "      <th>cost</th>\n",
       "      <th>mrp</th>\n",
       "    </tr>\n",
       "  </thead>\n",
       "  <tbody>\n",
       "    <tr>\n",
       "      <th>0</th>\n",
       "      <td>a</td>\n",
       "      <td>100</td>\n",
       "      <td>105</td>\n",
       "    </tr>\n",
       "    <tr>\n",
       "      <th>1</th>\n",
       "      <td>b</td>\n",
       "      <td>200</td>\n",
       "      <td>210</td>\n",
       "    </tr>\n",
       "    <tr>\n",
       "      <th>2</th>\n",
       "      <td>c</td>\n",
       "      <td>300</td>\n",
       "      <td>315</td>\n",
       "    </tr>\n",
       "    <tr>\n",
       "      <th>3</th>\n",
       "      <td>d</td>\n",
       "      <td>400</td>\n",
       "      <td>420</td>\n",
       "    </tr>\n",
       "    <tr>\n",
       "      <th>4</th>\n",
       "      <td>e</td>\n",
       "      <td>500</td>\n",
       "      <td>525</td>\n",
       "    </tr>\n",
       "  </tbody>\n",
       "</table>\n",
       "</div>"
      ],
      "text/plain": [
       "  product  cost  mrp\n",
       "0       a   100  105\n",
       "1       b   200  210\n",
       "2       c   300  315\n",
       "3       d   400  420\n",
       "4       e   500  525"
      ]
     },
     "execution_count": 4,
     "metadata": {},
     "output_type": "execute_result"
    }
   ],
   "source": [
    "df"
   ]
  },
  {
   "cell_type": "code",
   "execution_count": 5,
   "id": "1f19a851",
   "metadata": {
    "execution": {
     "iopub.execute_input": "2023-09-08T15:20:30.914137Z",
     "iopub.status.busy": "2023-09-08T15:20:30.913703Z",
     "iopub.status.idle": "2023-09-08T15:20:30.932270Z",
     "shell.execute_reply": "2023-09-08T15:20:30.931128Z"
    },
    "papermill": {
     "duration": 0.02934,
     "end_time": "2023-09-08T15:20:30.934628",
     "exception": false,
     "start_time": "2023-09-08T15:20:30.905288",
     "status": "completed"
    },
    "tags": []
   },
   "outputs": [
    {
     "name": "stdout",
     "output_type": "stream",
     "text": [
      "Dataframe after deleting column : \n",
      "\n"
     ]
    },
    {
     "data": {
      "text/html": [
       "<div>\n",
       "<style scoped>\n",
       "    .dataframe tbody tr th:only-of-type {\n",
       "        vertical-align: middle;\n",
       "    }\n",
       "\n",
       "    .dataframe tbody tr th {\n",
       "        vertical-align: top;\n",
       "    }\n",
       "\n",
       "    .dataframe thead th {\n",
       "        text-align: right;\n",
       "    }\n",
       "</style>\n",
       "<table border=\"1\" class=\"dataframe\">\n",
       "  <thead>\n",
       "    <tr style=\"text-align: right;\">\n",
       "      <th></th>\n",
       "      <th>product</th>\n",
       "      <th>mrp</th>\n",
       "    </tr>\n",
       "  </thead>\n",
       "  <tbody>\n",
       "    <tr>\n",
       "      <th>0</th>\n",
       "      <td>a</td>\n",
       "      <td>105</td>\n",
       "    </tr>\n",
       "    <tr>\n",
       "      <th>1</th>\n",
       "      <td>b</td>\n",
       "      <td>210</td>\n",
       "    </tr>\n",
       "    <tr>\n",
       "      <th>2</th>\n",
       "      <td>c</td>\n",
       "      <td>315</td>\n",
       "    </tr>\n",
       "    <tr>\n",
       "      <th>3</th>\n",
       "      <td>d</td>\n",
       "      <td>420</td>\n",
       "    </tr>\n",
       "    <tr>\n",
       "      <th>4</th>\n",
       "      <td>e</td>\n",
       "      <td>525</td>\n",
       "    </tr>\n",
       "  </tbody>\n",
       "</table>\n",
       "</div>"
      ],
      "text/plain": [
       "  product  mrp\n",
       "0       a  105\n",
       "1       b  210\n",
       "2       c  315\n",
       "3       d  420\n",
       "4       e  525"
      ]
     },
     "execution_count": 5,
     "metadata": {},
     "output_type": "execute_result"
    }
   ],
   "source": [
    "# del df['mrp']           # directly delete column from the dataframe\n",
    "\n",
    "df=df.drop(\"cost\",axis=1)        \n",
    "print(\"Dataframe after deleting column : \\n\")\n",
    "df"
   ]
  },
  {
   "cell_type": "markdown",
   "id": "d44408f9",
   "metadata": {
    "papermill": {
     "duration": 0.00683,
     "end_time": "2023-09-08T15:20:30.948641",
     "exception": false,
     "start_time": "2023-09-08T15:20:30.941811",
     "status": "completed"
    },
    "tags": []
   },
   "source": [
    "### 4. To write a DataFrame to CSV file using tab separator"
   ]
  },
  {
   "cell_type": "code",
   "execution_count": 6,
   "id": "5bcfb947",
   "metadata": {
    "execution": {
     "iopub.execute_input": "2023-09-08T15:20:30.965936Z",
     "iopub.status.busy": "2023-09-08T15:20:30.965480Z",
     "iopub.status.idle": "2023-09-08T15:20:30.976374Z",
     "shell.execute_reply": "2023-09-08T15:20:30.975116Z"
    },
    "papermill": {
     "duration": 0.023053,
     "end_time": "2023-09-08T15:20:30.979056",
     "exception": false,
     "start_time": "2023-09-08T15:20:30.956003",
     "status": "completed"
    },
    "tags": []
   },
   "outputs": [],
   "source": [
    "df.to_csv(\"outputL7.csv\",index=False,sep='\\t')"
   ]
  }
 ],
 "kernelspec": {
  "display_name": "Python 3",
  "language": "python",
  "name": "python3"
 },
 "language_info": {
  "codemirror_mode": {
   "name": "ipython",
   "version": 3
  },
  "file_extension": ".py",
  "mimetype": "text/x-python",
  "name": "python",
  "nbconvert_exporter": "python",
  "pygments_lexer": "ipython3",
  "version": "3.6.4"
 },
 "metadata": {
  "kernelspec": {
   "display_name": "Python 3",
   "language": "python",
   "name": "python3"
  },
  "language_info": {
   "codemirror_mode": {
    "name": "ipython",
    "version": 3
   },
   "file_extension": ".py",
   "mimetype": "text/x-python",
   "name": "python",
   "nbconvert_exporter": "python",
   "pygments_lexer": "ipython3",
   "version": "3.10.12"
  },
  "papermill": {
   "default_parameters": {},
   "duration": 5.000136,
   "end_time": "2023-09-08T15:20:31.506945",
   "environment_variables": {},
   "exception": null,
   "input_path": "__notebook__.ipynb",
   "output_path": "__notebook__.ipynb",
   "parameters": {},
   "start_time": "2023-09-08T15:20:26.506809",
   "version": "2.4.0"
  }
 },
 "nbformat": 4,
 "nbformat_minor": 5
}
