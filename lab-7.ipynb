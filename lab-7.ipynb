{
 "cells": [
  {
   "cell_type": "markdown",
   "id": "28ea245b",
   "metadata": {
    "_cell_guid": "b1076dfc-b9ad-4769-8c92-a6c4dae69d19",
    "_uuid": "8f2839f25d086af736a60e9eeb907d3b93b6e0e5",
    "papermill": {
     "duration": 0.007296,
     "end_time": "2023-09-10T11:21:12.537264",
     "exception": false,
     "start_time": "2023-09-10T11:21:12.529968",
     "status": "completed"
    },
    "tags": []
   },
   "source": [
    "## Lab 7\n",
    "### *Hasan Ravda [ 216270307028 ]*\n"
   ]
  },
  {
   "cell_type": "markdown",
   "id": "7c1868f5",
   "metadata": {
    "papermill": {
     "duration": 0.005846,
     "end_time": "2023-09-10T11:21:12.549798",
     "exception": false,
     "start_time": "2023-09-10T11:21:12.543952",
     "status": "completed"
    },
    "tags": []
   },
   "source": [
    "# Write a Pandas program to implement following operation"
   ]
  },
  {
   "cell_type": "code",
   "execution_count": 1,
   "id": "14e89f8d",
   "metadata": {
    "execution": {
     "iopub.execute_input": "2023-09-10T11:21:12.563555Z",
     "iopub.status.busy": "2023-09-10T11:21:12.563178Z",
     "iopub.status.idle": "2023-09-10T11:21:12.984843Z",
     "shell.execute_reply": "2023-09-10T11:21:12.983668Z"
    },
    "papermill": {
     "duration": 0.432304,
     "end_time": "2023-09-10T11:21:12.988016",
     "exception": false,
     "start_time": "2023-09-10T11:21:12.555712",
     "status": "completed"
    },
    "tags": []
   },
   "outputs": [],
   "source": [
    "import pandas as pd\n",
    "import numpy as np"
   ]
  },
  {
   "cell_type": "markdown",
   "id": "77f4107d",
   "metadata": {
    "papermill": {
     "duration": 0.005722,
     "end_time": "2023-09-10T11:21:13.000092",
     "exception": false,
     "start_time": "2023-09-10T11:21:12.994370",
     "status": "completed"
    },
    "tags": []
   },
   "source": [
    "### 1. To create a dataframe from a dictionary and display it"
   ]
  },
  {
   "cell_type": "code",
   "execution_count": 2,
   "id": "1f04e7ec",
   "metadata": {
    "execution": {
     "iopub.execute_input": "2023-09-10T11:21:13.014321Z",
     "iopub.status.busy": "2023-09-10T11:21:13.013782Z",
     "iopub.status.idle": "2023-09-10T11:21:13.042002Z",
     "shell.execute_reply": "2023-09-10T11:21:13.040848Z"
    },
    "papermill": {
     "duration": 0.038845,
     "end_time": "2023-09-10T11:21:13.044841",
     "exception": false,
     "start_time": "2023-09-10T11:21:13.005996",
     "status": "completed"
    },
    "tags": []
   },
   "outputs": [
    {
     "data": {
      "text/html": [
       "<div>\n",
       "<style scoped>\n",
       "    .dataframe tbody tr th:only-of-type {\n",
       "        vertical-align: middle;\n",
       "    }\n",
       "\n",
       "    .dataframe tbody tr th {\n",
       "        vertical-align: top;\n",
       "    }\n",
       "\n",
       "    .dataframe thead th {\n",
       "        text-align: right;\n",
       "    }\n",
       "</style>\n",
       "<table border=\"1\" class=\"dataframe\">\n",
       "  <thead>\n",
       "    <tr style=\"text-align: right;\">\n",
       "      <th></th>\n",
       "      <th>product</th>\n",
       "      <th>cost</th>\n",
       "      <th>mrp</th>\n",
       "    </tr>\n",
       "  </thead>\n",
       "  <tbody>\n",
       "    <tr>\n",
       "      <th>0</th>\n",
       "      <td>a</td>\n",
       "      <td>100</td>\n",
       "      <td>105</td>\n",
       "    </tr>\n",
       "    <tr>\n",
       "      <th>1</th>\n",
       "      <td>b</td>\n",
       "      <td>200</td>\n",
       "      <td>210</td>\n",
       "    </tr>\n",
       "    <tr>\n",
       "      <th>2</th>\n",
       "      <td>c</td>\n",
       "      <td>300</td>\n",
       "      <td>315</td>\n",
       "    </tr>\n",
       "    <tr>\n",
       "      <th>3</th>\n",
       "      <td>d</td>\n",
       "      <td>400</td>\n",
       "      <td>420</td>\n",
       "    </tr>\n",
       "    <tr>\n",
       "      <th>4</th>\n",
       "      <td>e</td>\n",
       "      <td>500</td>\n",
       "      <td>525</td>\n",
       "    </tr>\n",
       "  </tbody>\n",
       "</table>\n",
       "</div>"
      ],
      "text/plain": [
       "  product  cost  mrp\n",
       "0       a   100  105\n",
       "1       b   200  210\n",
       "2       c   300  315\n",
       "3       d   400  420\n",
       "4       e   500  525"
      ]
     },
     "execution_count": 2,
     "metadata": {},
     "output_type": "execute_result"
    }
   ],
   "source": [
    "dict = {\n",
    "    \"product\" : ['a','b','c','d','e'],\n",
    "    \"cost\" : [100,200,300,400,500],\n",
    "    \"mrp\" : [105,210,315,420,525]\n",
    "}\n",
    "df = pd.DataFrame(dict)\n",
    "df"
   ]
  },
  {
   "cell_type": "markdown",
   "id": "c9ffcc8c",
   "metadata": {
    "papermill": {
     "duration": 0.0061,
     "end_time": "2023-09-10T11:21:13.057618",
     "exception": false,
     "start_time": "2023-09-10T11:21:13.051518",
     "status": "completed"
    },
    "tags": []
   },
   "source": [
    "### 2. To sort the DataFrame first by 'name' in ascending order"
   ]
  },
  {
   "cell_type": "code",
   "execution_count": 3,
   "id": "99dbc632",
   "metadata": {
    "execution": {
     "iopub.execute_input": "2023-09-10T11:21:13.072940Z",
     "iopub.status.busy": "2023-09-10T11:21:13.072488Z",
     "iopub.status.idle": "2023-09-10T11:21:13.096132Z",
     "shell.execute_reply": "2023-09-10T11:21:13.095090Z"
    },
    "papermill": {
     "duration": 0.034735,
     "end_time": "2023-09-10T11:21:13.098625",
     "exception": false,
     "start_time": "2023-09-10T11:21:13.063890",
     "status": "completed"
    },
    "tags": []
   },
   "outputs": [
    {
     "data": {
      "text/html": [
       "<div>\n",
       "<style scoped>\n",
       "    .dataframe tbody tr th:only-of-type {\n",
       "        vertical-align: middle;\n",
       "    }\n",
       "\n",
       "    .dataframe tbody tr th {\n",
       "        vertical-align: top;\n",
       "    }\n",
       "\n",
       "    .dataframe thead th {\n",
       "        text-align: right;\n",
       "    }\n",
       "</style>\n",
       "<table border=\"1\" class=\"dataframe\">\n",
       "  <thead>\n",
       "    <tr style=\"text-align: right;\">\n",
       "      <th></th>\n",
       "      <th>name</th>\n",
       "      <th>age</th>\n",
       "    </tr>\n",
       "  </thead>\n",
       "  <tbody>\n",
       "    <tr>\n",
       "      <th>2</th>\n",
       "      <td>Dhoni</td>\n",
       "      <td>42</td>\n",
       "    </tr>\n",
       "    <tr>\n",
       "      <th>1</th>\n",
       "      <td>Kohli</td>\n",
       "      <td>39</td>\n",
       "    </tr>\n",
       "    <tr>\n",
       "      <th>3</th>\n",
       "      <td>Rahul</td>\n",
       "      <td>37</td>\n",
       "    </tr>\n",
       "    <tr>\n",
       "      <th>0</th>\n",
       "      <td>Sachin</td>\n",
       "      <td>50</td>\n",
       "    </tr>\n",
       "  </tbody>\n",
       "</table>\n",
       "</div>"
      ],
      "text/plain": [
       "     name  age\n",
       "2   Dhoni   42\n",
       "1   Kohli   39\n",
       "3   Rahul   37\n",
       "0  Sachin   50"
      ]
     },
     "execution_count": 3,
     "metadata": {},
     "output_type": "execute_result"
    }
   ],
   "source": [
    "cricket_df=pd.DataFrame({\"name\":[\"Sachin\",\"Kohli\",\"Dhoni\",\"Rahul\"],\"age\":[50,39,42,37]})\n",
    "sorted_df=cricket_df.sort_values(by=\"name\",ascending=True)    # ascending is by default True\n",
    "sorted_df"
   ]
  },
  {
   "cell_type": "markdown",
   "id": "952848d9",
   "metadata": {
    "papermill": {
     "duration": 0.006606,
     "end_time": "2023-09-10T11:21:13.112077",
     "exception": false,
     "start_time": "2023-09-10T11:21:13.105471",
     "status": "completed"
    },
    "tags": []
   },
   "source": [
    "### 3. To delete the one specific column from the DataFrame"
   ]
  },
  {
   "cell_type": "code",
   "execution_count": 4,
   "id": "6f8c7c4e",
   "metadata": {
    "execution": {
     "iopub.execute_input": "2023-09-10T11:21:13.128756Z",
     "iopub.status.busy": "2023-09-10T11:21:13.128355Z",
     "iopub.status.idle": "2023-09-10T11:21:13.142549Z",
     "shell.execute_reply": "2023-09-10T11:21:13.140907Z"
    },
    "papermill": {
     "duration": 0.027244,
     "end_time": "2023-09-10T11:21:13.146103",
     "exception": false,
     "start_time": "2023-09-10T11:21:13.118859",
     "status": "completed"
    },
    "tags": []
   },
   "outputs": [
    {
     "name": "stdout",
     "output_type": "stream",
     "text": [
      "Dataframe before deleting: \n",
      "\n"
     ]
    },
    {
     "data": {
      "text/html": [
       "<div>\n",
       "<style scoped>\n",
       "    .dataframe tbody tr th:only-of-type {\n",
       "        vertical-align: middle;\n",
       "    }\n",
       "\n",
       "    .dataframe tbody tr th {\n",
       "        vertical-align: top;\n",
       "    }\n",
       "\n",
       "    .dataframe thead th {\n",
       "        text-align: right;\n",
       "    }\n",
       "</style>\n",
       "<table border=\"1\" class=\"dataframe\">\n",
       "  <thead>\n",
       "    <tr style=\"text-align: right;\">\n",
       "      <th></th>\n",
       "      <th>product</th>\n",
       "      <th>cost</th>\n",
       "      <th>mrp</th>\n",
       "    </tr>\n",
       "  </thead>\n",
       "  <tbody>\n",
       "    <tr>\n",
       "      <th>0</th>\n",
       "      <td>a</td>\n",
       "      <td>100</td>\n",
       "      <td>105</td>\n",
       "    </tr>\n",
       "    <tr>\n",
       "      <th>1</th>\n",
       "      <td>b</td>\n",
       "      <td>200</td>\n",
       "      <td>210</td>\n",
       "    </tr>\n",
       "    <tr>\n",
       "      <th>2</th>\n",
       "      <td>c</td>\n",
       "      <td>300</td>\n",
       "      <td>315</td>\n",
       "    </tr>\n",
       "    <tr>\n",
       "      <th>3</th>\n",
       "      <td>d</td>\n",
       "      <td>400</td>\n",
       "      <td>420</td>\n",
       "    </tr>\n",
       "    <tr>\n",
       "      <th>4</th>\n",
       "      <td>e</td>\n",
       "      <td>500</td>\n",
       "      <td>525</td>\n",
       "    </tr>\n",
       "  </tbody>\n",
       "</table>\n",
       "</div>"
      ],
      "text/plain": [
       "  product  cost  mrp\n",
       "0       a   100  105\n",
       "1       b   200  210\n",
       "2       c   300  315\n",
       "3       d   400  420\n",
       "4       e   500  525"
      ]
     },
     "execution_count": 4,
     "metadata": {},
     "output_type": "execute_result"
    }
   ],
   "source": [
    "print(\"Dataframe before deleting: \\n\")\n",
    "df"
   ]
  },
  {
   "cell_type": "code",
   "execution_count": 5,
   "id": "236543ab",
   "metadata": {
    "execution": {
     "iopub.execute_input": "2023-09-10T11:21:13.162881Z",
     "iopub.status.busy": "2023-09-10T11:21:13.162479Z",
     "iopub.status.idle": "2023-09-10T11:21:13.183232Z",
     "shell.execute_reply": "2023-09-10T11:21:13.181845Z"
    },
    "papermill": {
     "duration": 0.033434,
     "end_time": "2023-09-10T11:21:13.187102",
     "exception": false,
     "start_time": "2023-09-10T11:21:13.153668",
     "status": "completed"
    },
    "tags": []
   },
   "outputs": [
    {
     "name": "stdout",
     "output_type": "stream",
     "text": [
      "\n",
      "Dataframe after deleting column : \n",
      "\n"
     ]
    },
    {
     "data": {
      "text/html": [
       "<div>\n",
       "<style scoped>\n",
       "    .dataframe tbody tr th:only-of-type {\n",
       "        vertical-align: middle;\n",
       "    }\n",
       "\n",
       "    .dataframe tbody tr th {\n",
       "        vertical-align: top;\n",
       "    }\n",
       "\n",
       "    .dataframe thead th {\n",
       "        text-align: right;\n",
       "    }\n",
       "</style>\n",
       "<table border=\"1\" class=\"dataframe\">\n",
       "  <thead>\n",
       "    <tr style=\"text-align: right;\">\n",
       "      <th></th>\n",
       "      <th>product</th>\n",
       "      <th>cost</th>\n",
       "    </tr>\n",
       "  </thead>\n",
       "  <tbody>\n",
       "    <tr>\n",
       "      <th>0</th>\n",
       "      <td>a</td>\n",
       "      <td>100</td>\n",
       "    </tr>\n",
       "    <tr>\n",
       "      <th>1</th>\n",
       "      <td>b</td>\n",
       "      <td>200</td>\n",
       "    </tr>\n",
       "    <tr>\n",
       "      <th>2</th>\n",
       "      <td>c</td>\n",
       "      <td>300</td>\n",
       "    </tr>\n",
       "    <tr>\n",
       "      <th>3</th>\n",
       "      <td>d</td>\n",
       "      <td>400</td>\n",
       "    </tr>\n",
       "    <tr>\n",
       "      <th>4</th>\n",
       "      <td>e</td>\n",
       "      <td>500</td>\n",
       "    </tr>\n",
       "  </tbody>\n",
       "</table>\n",
       "</div>"
      ],
      "text/plain": [
       "  product  cost\n",
       "0       a   100\n",
       "1       b   200\n",
       "2       c   300\n",
       "3       d   400\n",
       "4       e   500"
      ]
     },
     "execution_count": 5,
     "metadata": {},
     "output_type": "execute_result"
    }
   ],
   "source": [
    "# del df['mrp']           # directly delete column from the dataframe\n",
    "\n",
    "print(\"\\nDataframe after deleting column : \\n\")\n",
    "df.drop(\"mrp\",axis=1)        "
   ]
  },
  {
   "cell_type": "markdown",
   "id": "77a2b7bb",
   "metadata": {
    "papermill": {
     "duration": 0.007952,
     "end_time": "2023-09-10T11:21:13.203771",
     "exception": false,
     "start_time": "2023-09-10T11:21:13.195819",
     "status": "completed"
    },
    "tags": []
   },
   "source": [
    "### 4. To write a DataFrame to CSV file using tab separator"
   ]
  },
  {
   "cell_type": "code",
   "execution_count": 6,
   "id": "5c57f7f1",
   "metadata": {
    "execution": {
     "iopub.execute_input": "2023-09-10T11:21:13.221378Z",
     "iopub.status.busy": "2023-09-10T11:21:13.220834Z",
     "iopub.status.idle": "2023-09-10T11:21:13.243900Z",
     "shell.execute_reply": "2023-09-10T11:21:13.242142Z"
    },
    "papermill": {
     "duration": 0.03582,
     "end_time": "2023-09-10T11:21:13.247349",
     "exception": false,
     "start_time": "2023-09-10T11:21:13.211529",
     "status": "completed"
    },
    "tags": []
   },
   "outputs": [
    {
     "name": "stdout",
     "output_type": "stream",
     "text": [
      "Data from CSV file : \n",
      "\n"
     ]
    },
    {
     "data": {
      "text/html": [
       "<div>\n",
       "<style scoped>\n",
       "    .dataframe tbody tr th:only-of-type {\n",
       "        vertical-align: middle;\n",
       "    }\n",
       "\n",
       "    .dataframe tbody tr th {\n",
       "        vertical-align: top;\n",
       "    }\n",
       "\n",
       "    .dataframe thead th {\n",
       "        text-align: right;\n",
       "    }\n",
       "</style>\n",
       "<table border=\"1\" class=\"dataframe\">\n",
       "  <thead>\n",
       "    <tr style=\"text-align: right;\">\n",
       "      <th></th>\n",
       "      <th>product\\tcost\\tmrp</th>\n",
       "    </tr>\n",
       "  </thead>\n",
       "  <tbody>\n",
       "    <tr>\n",
       "      <th>0</th>\n",
       "      <td>a\\t100\\t105</td>\n",
       "    </tr>\n",
       "    <tr>\n",
       "      <th>1</th>\n",
       "      <td>b\\t200\\t210</td>\n",
       "    </tr>\n",
       "    <tr>\n",
       "      <th>2</th>\n",
       "      <td>c\\t300\\t315</td>\n",
       "    </tr>\n",
       "    <tr>\n",
       "      <th>3</th>\n",
       "      <td>d\\t400\\t420</td>\n",
       "    </tr>\n",
       "    <tr>\n",
       "      <th>4</th>\n",
       "      <td>e\\t500\\t525</td>\n",
       "    </tr>\n",
       "  </tbody>\n",
       "</table>\n",
       "</div>"
      ],
      "text/plain": [
       "  product\\tcost\\tmrp\n",
       "0        a\\t100\\t105\n",
       "1        b\\t200\\t210\n",
       "2        c\\t300\\t315\n",
       "3        d\\t400\\t420\n",
       "4        e\\t500\\t525"
      ]
     },
     "execution_count": 6,
     "metadata": {},
     "output_type": "execute_result"
    }
   ],
   "source": [
    "df.to_csv(\"outputL7.csv\",index=False,sep=\"\\t\")\n",
    "\n",
    "print(\"Data from CSV file : \\n\")\n",
    "csv_df=pd.read_csv(\"outputL7.csv\")\n",
    "csv_df"
   ]
  }
 ],
 "kernelspec": {
  "display_name": "Python 3",
  "language": "python",
  "name": "python3"
 },
 "language_info": {
  "codemirror_mode": {
   "name": "ipython",
   "version": 3
  },
  "file_extension": ".py",
  "mimetype": "text/x-python",
  "name": "python",
  "nbconvert_exporter": "python",
  "pygments_lexer": "ipython3",
  "version": "3.6.4"
 },
 "metadata": {
  "kernelspec": {
   "display_name": "Python 3",
   "language": "python",
   "name": "python3"
  },
  "language_info": {
   "codemirror_mode": {
    "name": "ipython",
    "version": 3
   },
   "file_extension": ".py",
   "mimetype": "text/x-python",
   "name": "python",
   "nbconvert_exporter": "python",
   "pygments_lexer": "ipython3",
   "version": "3.10.12"
  },
  "papermill": {
   "default_parameters": {},
   "duration": 5.091679,
   "end_time": "2023-09-10T11:21:13.777102",
   "environment_variables": {},
   "exception": null,
   "input_path": "__notebook__.ipynb",
   "output_path": "__notebook__.ipynb",
   "parameters": {},
   "start_time": "2023-09-10T11:21:08.685423",
   "version": "2.4.0"
  }
 },
 "nbformat": 4,
 "nbformat_minor": 5
}
