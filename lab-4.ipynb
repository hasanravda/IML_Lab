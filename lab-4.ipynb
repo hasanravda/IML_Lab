{
 "cells": [
  {
   "cell_type": "markdown",
   "id": "3dcf5d7e",
   "metadata": {
    "_cell_guid": "b1076dfc-b9ad-4769-8c92-a6c4dae69d19",
    "_uuid": "8f2839f25d086af736a60e9eeb907d3b93b6e0e5",
    "papermill": {
     "duration": 0.006215,
     "end_time": "2023-09-03T18:34:34.671311",
     "exception": false,
     "start_time": "2023-09-03T18:34:34.665096",
     "status": "completed"
    },
    "tags": []
   },
   "source": [
    "Write a NumPy program to implement following operation\n"
   ]
  },
  {
   "cell_type": "code",
   "execution_count": 1,
   "id": "54b6ad7e",
   "metadata": {
    "execution": {
     "iopub.execute_input": "2023-09-03T18:34:34.684573Z",
     "iopub.status.busy": "2023-09-03T18:34:34.683860Z",
     "iopub.status.idle": "2023-09-03T18:34:34.695154Z",
     "shell.execute_reply": "2023-09-03T18:34:34.694290Z"
    },
    "papermill": {
     "duration": 0.020771,
     "end_time": "2023-09-03T18:34:34.697766",
     "exception": false,
     "start_time": "2023-09-03T18:34:34.676995",
     "status": "completed"
    },
    "tags": []
   },
   "outputs": [],
   "source": [
    "import numpy as np"
   ]
  },
  {
   "cell_type": "markdown",
   "id": "8336eb73",
   "metadata": {
    "papermill": {
     "duration": 0.005445,
     "end_time": "2023-09-03T18:34:34.709182",
     "exception": false,
     "start_time": "2023-09-03T18:34:34.703737",
     "status": "completed"
    },
    "tags": []
   },
   "source": [
    "1.  to add, subtract, multiply, divide arguments element-wise"
   ]
  },
  {
   "cell_type": "code",
   "execution_count": 2,
   "id": "575031b9",
   "metadata": {
    "execution": {
     "iopub.execute_input": "2023-09-03T18:34:34.722797Z",
     "iopub.status.busy": "2023-09-03T18:34:34.721960Z",
     "iopub.status.idle": "2023-09-03T18:34:34.735694Z",
     "shell.execute_reply": "2023-09-03T18:34:34.733971Z"
    },
    "papermill": {
     "duration": 0.023347,
     "end_time": "2023-09-03T18:34:34.738144",
     "exception": false,
     "start_time": "2023-09-03T18:34:34.714797",
     "status": "completed"
    },
    "tags": []
   },
   "outputs": [
    {
     "name": "stdout",
     "output_type": "stream",
     "text": [
      "[1 2 3 4]\n",
      "a+10 =  [11 12 13 14]\n",
      "a-1 =  [0 1 2 3]\n",
      "a*10 =  [10 20 30 40]\n",
      "a/10 =  [0.1 0.2 0.3 0.4]\n",
      "a**2 =  [ 1  4  9 16]\n",
      "a%2 =  [1 0 1 0]\n"
     ]
    }
   ],
   "source": [
    "a=np.arange(1,5)\n",
    "print(a)\n",
    "print(\"a+10 = \",a+10)\n",
    "print(\"a-1 = \",a-1)\n",
    "print(\"a*10 = \",a*10)\n",
    "print(\"a/10 = \",a/10)\n",
    "print(\"a**2 = \",a**2)\n",
    "print(\"a%2 = \",a%2)"
   ]
  },
  {
   "cell_type": "markdown",
   "id": "a706d8a6",
   "metadata": {
    "papermill": {
     "duration": 0.005243,
     "end_time": "2023-09-03T18:34:34.749105",
     "exception": false,
     "start_time": "2023-09-03T18:34:34.743862",
     "status": "completed"
    },
    "tags": []
   },
   "source": [
    "2. to round elements of the array to the nearest integer"
   ]
  },
  {
   "cell_type": "code",
   "execution_count": 3,
   "id": "ef0dda3d",
   "metadata": {
    "execution": {
     "iopub.execute_input": "2023-09-03T18:34:34.761859Z",
     "iopub.status.busy": "2023-09-03T18:34:34.761446Z",
     "iopub.status.idle": "2023-09-03T18:34:34.771014Z",
     "shell.execute_reply": "2023-09-03T18:34:34.769942Z"
    },
    "papermill": {
     "duration": 0.018695,
     "end_time": "2023-09-03T18:34:34.773251",
     "exception": false,
     "start_time": "2023-09-03T18:34:34.754556",
     "status": "completed"
    },
    "tags": []
   },
   "outputs": [
    {
     "data": {
      "text/plain": [
       "array([0., 1., 2., 3., 3., 4.])"
      ]
     },
     "execution_count": 3,
     "metadata": {},
     "output_type": "execute_result"
    }
   ],
   "source": [
    "f_arr=np.array([0.3,0.8,1.5,2.6,3.2,4.5])\n",
    "np.round(f_arr)"
   ]
  },
  {
   "cell_type": "markdown",
   "id": "47f11b64",
   "metadata": {
    "papermill": {
     "duration": 0.00546,
     "end_time": "2023-09-03T18:34:34.784513",
     "exception": false,
     "start_time": "2023-09-03T18:34:34.779053",
     "status": "completed"
    },
    "tags": []
   },
   "source": [
    "3. to calculate mean across dimension, in a 2D numpy array"
   ]
  },
  {
   "cell_type": "code",
   "execution_count": 4,
   "id": "ba0dc971",
   "metadata": {
    "execution": {
     "iopub.execute_input": "2023-09-03T18:34:34.798148Z",
     "iopub.status.busy": "2023-09-03T18:34:34.797114Z",
     "iopub.status.idle": "2023-09-03T18:34:34.805771Z",
     "shell.execute_reply": "2023-09-03T18:34:34.804462Z"
    },
    "papermill": {
     "duration": 0.01797,
     "end_time": "2023-09-03T18:34:34.808130",
     "exception": false,
     "start_time": "2023-09-03T18:34:34.790160",
     "status": "completed"
    },
    "tags": []
   },
   "outputs": [
    {
     "name": "stdout",
     "output_type": "stream",
     "text": [
      "[[1 2 3]\n",
      " [4 5 6]]\n",
      "mean across rows =  [2. 5.]\n",
      "mean across columns =  [2.5 3.5 4.5]\n"
     ]
    }
   ],
   "source": [
    "a=np.arange(1,7).reshape(2,3)\n",
    "print(a)\n",
    "\n",
    "# mean across rows (axis=1)\n",
    "r_mean=np.mean(a,axis=1)\n",
    "print(\"mean across rows = \",r_mean)\n",
    "\n",
    "# mean across columns (axis=0)\n",
    "c_mean=np.mean(a,axis=0)\n",
    "print(\"mean across columns = \",c_mean)"
   ]
  },
  {
   "cell_type": "markdown",
   "id": "2e56e798",
   "metadata": {
    "papermill": {
     "duration": 0.005456,
     "end_time": "2023-09-03T18:34:34.819562",
     "exception": false,
     "start_time": "2023-09-03T18:34:34.814106",
     "status": "completed"
    },
    "tags": []
   },
   "source": [
    "4. to calculate the difference between neighboring elements, element wise of a given array"
   ]
  },
  {
   "cell_type": "code",
   "execution_count": 5,
   "id": "1fe11d41",
   "metadata": {
    "execution": {
     "iopub.execute_input": "2023-09-03T18:34:34.833178Z",
     "iopub.status.busy": "2023-09-03T18:34:34.832557Z",
     "iopub.status.idle": "2023-09-03T18:34:34.838475Z",
     "shell.execute_reply": "2023-09-03T18:34:34.837281Z"
    },
    "papermill": {
     "duration": 0.015724,
     "end_time": "2023-09-03T18:34:34.841010",
     "exception": false,
     "start_time": "2023-09-03T18:34:34.825286",
     "status": "completed"
    },
    "tags": []
   },
   "outputs": [
    {
     "name": "stdout",
     "output_type": "stream",
     "text": [
      "Original Array =  [ 1  3  6  9 13]\n",
      "Difference between elements =  [2 3 3 4]\n"
     ]
    }
   ],
   "source": [
    "arr=np.array([1,3,6,9,13])\n",
    "print(\"Original Array = \",arr)\n",
    "\n",
    "diff=np.diff(arr)\n",
    "print(\"Difference between elements = \",diff)"
   ]
  }
 ],
 "kernelspec": {
  "display_name": "Python 3",
  "language": "python",
  "name": "python3"
 },
 "language_info": {
  "codemirror_mode": {
   "name": "ipython",
   "version": 3
  },
  "file_extension": ".py",
  "mimetype": "text/x-python",
  "name": "python",
  "nbconvert_exporter": "python",
  "pygments_lexer": "ipython3",
  "version": "3.6.4"
 },
 "metadata": {
  "kernelspec": {
   "display_name": "Python 3",
   "language": "python",
   "name": "python3"
  },
  "language_info": {
   "codemirror_mode": {
    "name": "ipython",
    "version": 3
   },
   "file_extension": ".py",
   "mimetype": "text/x-python",
   "name": "python",
   "nbconvert_exporter": "python",
   "pygments_lexer": "ipython3",
   "version": "3.10.12"
  },
  "papermill": {
   "default_parameters": {},
   "duration": 4.426558,
   "end_time": "2023-09-03T18:34:35.267842",
   "environment_variables": {},
   "exception": null,
   "input_path": "__notebook__.ipynb",
   "output_path": "__notebook__.ipynb",
   "parameters": {},
   "start_time": "2023-09-03T18:34:30.841284",
   "version": "2.4.0"
  }
 },
 "nbformat": 4,
 "nbformat_minor": 5
}
