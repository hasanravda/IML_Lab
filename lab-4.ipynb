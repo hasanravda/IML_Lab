{
 "cells": [
  {
   "cell_type": "markdown",
   "id": "93965ad6",
   "metadata": {
    "_cell_guid": "b1076dfc-b9ad-4769-8c92-a6c4dae69d19",
    "_uuid": "8f2839f25d086af736a60e9eeb907d3b93b6e0e5",
    "papermill": {
     "duration": 0.006336,
     "end_time": "2023-09-10T10:59:14.079189",
     "exception": false,
     "start_time": "2023-09-10T10:59:14.072853",
     "status": "completed"
    },
    "tags": []
   },
   "source": [
    "# Write a NumPy program to implement following operation\n"
   ]
  },
  {
   "cell_type": "code",
   "execution_count": 1,
   "id": "951c9333",
   "metadata": {
    "execution": {
     "iopub.execute_input": "2023-09-10T10:59:14.092736Z",
     "iopub.status.busy": "2023-09-10T10:59:14.092352Z",
     "iopub.status.idle": "2023-09-10T10:59:14.104294Z",
     "shell.execute_reply": "2023-09-10T10:59:14.103236Z"
    },
    "papermill": {
     "duration": 0.021852,
     "end_time": "2023-09-10T10:59:14.106855",
     "exception": false,
     "start_time": "2023-09-10T10:59:14.085003",
     "status": "completed"
    },
    "tags": []
   },
   "outputs": [],
   "source": [
    "# Hasan Ravda\n",
    "# 216270307028 \n",
    "import numpy as np"
   ]
  },
  {
   "cell_type": "markdown",
   "id": "a06c7a88",
   "metadata": {
    "papermill": {
     "duration": 0.005241,
     "end_time": "2023-09-10T10:59:14.117708",
     "exception": false,
     "start_time": "2023-09-10T10:59:14.112467",
     "status": "completed"
    },
    "tags": []
   },
   "source": [
    "1.  to add, subtract, multiply, divide arguments element-wise"
   ]
  },
  {
   "cell_type": "code",
   "execution_count": 2,
   "id": "ce0b35bb",
   "metadata": {
    "execution": {
     "iopub.execute_input": "2023-09-10T10:59:14.131771Z",
     "iopub.status.busy": "2023-09-10T10:59:14.131374Z",
     "iopub.status.idle": "2023-09-10T10:59:14.143552Z",
     "shell.execute_reply": "2023-09-10T10:59:14.142266Z"
    },
    "papermill": {
     "duration": 0.022383,
     "end_time": "2023-09-10T10:59:14.146467",
     "exception": false,
     "start_time": "2023-09-10T10:59:14.124084",
     "status": "completed"
    },
    "tags": []
   },
   "outputs": [
    {
     "name": "stdout",
     "output_type": "stream",
     "text": [
      "[1 2 3 4]\n",
      "a+10 =  [11 12 13 14]\n",
      "a-1 =  [0 1 2 3]\n",
      "a*10 =  [10 20 30 40]\n",
      "a/10 =  [0.1 0.2 0.3 0.4]\n",
      "a**2 =  [ 1  4  9 16]\n",
      "a%2 =  [1 0 1 0]\n"
     ]
    }
   ],
   "source": [
    "a=np.arange(1,5)\n",
    "print(a)\n",
    "print(\"a+10 = \",a+10)\n",
    "print(\"a-1 = \",a-1)\n",
    "print(\"a*10 = \",a*10)\n",
    "print(\"a/10 = \",a/10)\n",
    "print(\"a**2 = \",a**2)\n",
    "print(\"a%2 = \",a%2)"
   ]
  },
  {
   "cell_type": "markdown",
   "id": "f0d17735",
   "metadata": {
    "papermill": {
     "duration": 0.005336,
     "end_time": "2023-09-10T10:59:14.157492",
     "exception": false,
     "start_time": "2023-09-10T10:59:14.152156",
     "status": "completed"
    },
    "tags": []
   },
   "source": [
    "2. to round elements of the array to the nearest integer"
   ]
  },
  {
   "cell_type": "code",
   "execution_count": 3,
   "id": "1a060339",
   "metadata": {
    "execution": {
     "iopub.execute_input": "2023-09-10T10:59:14.171524Z",
     "iopub.status.busy": "2023-09-10T10:59:14.170979Z",
     "iopub.status.idle": "2023-09-10T10:59:14.180462Z",
     "shell.execute_reply": "2023-09-10T10:59:14.179290Z"
    },
    "papermill": {
     "duration": 0.019993,
     "end_time": "2023-09-10T10:59:14.183086",
     "exception": false,
     "start_time": "2023-09-10T10:59:14.163093",
     "status": "completed"
    },
    "tags": []
   },
   "outputs": [
    {
     "data": {
      "text/plain": [
       "array([0., 1., 2., 3., 3., 4.])"
      ]
     },
     "execution_count": 3,
     "metadata": {},
     "output_type": "execute_result"
    }
   ],
   "source": [
    "f_arr=np.array([0.3,0.8,1.5,2.6,3.2,4.5])\n",
    "# np.round(f_arr)\n",
    "np.rint(f_arr)"
   ]
  },
  {
   "cell_type": "markdown",
   "id": "b541262d",
   "metadata": {
    "papermill": {
     "duration": 0.005666,
     "end_time": "2023-09-10T10:59:14.195427",
     "exception": false,
     "start_time": "2023-09-10T10:59:14.189761",
     "status": "completed"
    },
    "tags": []
   },
   "source": [
    "3. to calculate mean across dimension, in a 2D numpy array"
   ]
  },
  {
   "cell_type": "code",
   "execution_count": 4,
   "id": "5358d30e",
   "metadata": {
    "execution": {
     "iopub.execute_input": "2023-09-10T10:59:14.209216Z",
     "iopub.status.busy": "2023-09-10T10:59:14.208395Z",
     "iopub.status.idle": "2023-09-10T10:59:14.216822Z",
     "shell.execute_reply": "2023-09-10T10:59:14.215578Z"
    },
    "papermill": {
     "duration": 0.018015,
     "end_time": "2023-09-10T10:59:14.219237",
     "exception": false,
     "start_time": "2023-09-10T10:59:14.201222",
     "status": "completed"
    },
    "tags": []
   },
   "outputs": [
    {
     "name": "stdout",
     "output_type": "stream",
     "text": [
      "[[1 2 3]\n",
      " [4 5 6]]\n",
      "mean across rows =  [2. 5.]\n",
      "mean across columns =  [2.5 3.5 4.5]\n"
     ]
    }
   ],
   "source": [
    "a=np.arange(1,7).reshape(2,3)\n",
    "print(a)\n",
    "\n",
    "# mean across rows (axis=1)\n",
    "r_mean=np.mean(a,axis=1)\n",
    "print(\"mean across rows = \",r_mean)\n",
    "\n",
    "# mean across columns (axis=0)\n",
    "c_mean=np.mean(a,axis=0)\n",
    "print(\"mean across columns = \",c_mean)"
   ]
  },
  {
   "cell_type": "markdown",
   "id": "dd59ac48",
   "metadata": {
    "papermill": {
     "duration": 0.005726,
     "end_time": "2023-09-10T10:59:14.231104",
     "exception": false,
     "start_time": "2023-09-10T10:59:14.225378",
     "status": "completed"
    },
    "tags": []
   },
   "source": [
    "4. to calculate the difference between neighboring elements, element wise of a given array"
   ]
  },
  {
   "cell_type": "code",
   "execution_count": 5,
   "id": "e1b328b3",
   "metadata": {
    "execution": {
     "iopub.execute_input": "2023-09-10T10:59:14.244754Z",
     "iopub.status.busy": "2023-09-10T10:59:14.244375Z",
     "iopub.status.idle": "2023-09-10T10:59:14.251014Z",
     "shell.execute_reply": "2023-09-10T10:59:14.250010Z"
    },
    "papermill": {
     "duration": 0.016734,
     "end_time": "2023-09-10T10:59:14.253642",
     "exception": false,
     "start_time": "2023-09-10T10:59:14.236908",
     "status": "completed"
    },
    "tags": []
   },
   "outputs": [
    {
     "name": "stdout",
     "output_type": "stream",
     "text": [
      "Original Array =  [ 1  3  6  9 13]\n",
      "Difference between elements =  [2 3 3 4]\n"
     ]
    }
   ],
   "source": [
    "arr=np.array([1,3,6,9,13])\n",
    "print(\"Original Array = \",arr)\n",
    "\n",
    "diff=np.diff(arr)\n",
    "print(\"Difference between elements = \",diff)"
   ]
  }
 ],
 "kernelspec": {
  "display_name": "Python 3",
  "language": "python",
  "name": "python3"
 },
 "language_info": {
  "codemirror_mode": {
   "name": "ipython",
   "version": 3
  },
  "file_extension": ".py",
  "mimetype": "text/x-python",
  "name": "python",
  "nbconvert_exporter": "python",
  "pygments_lexer": "ipython3",
  "version": "3.6.4"
 },
 "metadata": {
  "kernelspec": {
   "display_name": "Python 3",
   "language": "python",
   "name": "python3"
  },
  "language_info": {
   "codemirror_mode": {
    "name": "ipython",
    "version": 3
   },
   "file_extension": ".py",
   "mimetype": "text/x-python",
   "name": "python",
   "nbconvert_exporter": "python",
   "pygments_lexer": "ipython3",
   "version": "3.10.12"
  },
  "papermill": {
   "default_parameters": {},
   "duration": 4.578874,
   "end_time": "2023-09-10T10:59:14.680793",
   "environment_variables": {},
   "exception": null,
   "input_path": "__notebook__.ipynb",
   "output_path": "__notebook__.ipynb",
   "parameters": {},
   "start_time": "2023-09-10T10:59:10.101919",
   "version": "2.4.0"
  }
 },
 "nbformat": 4,
 "nbformat_minor": 5
}
