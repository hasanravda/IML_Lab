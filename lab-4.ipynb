{
 "cells": [
  {
   "cell_type": "markdown",
   "id": "0bb34c5c",
   "metadata": {
    "_cell_guid": "b1076dfc-b9ad-4769-8c92-a6c4dae69d19",
    "_uuid": "8f2839f25d086af736a60e9eeb907d3b93b6e0e5",
    "papermill": {
     "duration": 0.006243,
     "end_time": "2023-09-05T17:53:46.461768",
     "exception": false,
     "start_time": "2023-09-05T17:53:46.455525",
     "status": "completed"
    },
    "tags": []
   },
   "source": [
    "# Write a NumPy program to implement following operation\n"
   ]
  },
  {
   "cell_type": "code",
   "execution_count": 1,
   "id": "0f348027",
   "metadata": {
    "execution": {
     "iopub.execute_input": "2023-09-05T17:53:46.474985Z",
     "iopub.status.busy": "2023-09-05T17:53:46.474552Z",
     "iopub.status.idle": "2023-09-05T17:53:46.486425Z",
     "shell.execute_reply": "2023-09-05T17:53:46.485304Z"
    },
    "papermill": {
     "duration": 0.021491,
     "end_time": "2023-09-05T17:53:46.488919",
     "exception": false,
     "start_time": "2023-09-05T17:53:46.467428",
     "status": "completed"
    },
    "tags": []
   },
   "outputs": [],
   "source": [
    "# Hasan Ravda\n",
    "# 216270307028 \n",
    "import numpy as np"
   ]
  },
  {
   "cell_type": "markdown",
   "id": "9a021e2d",
   "metadata": {
    "papermill": {
     "duration": 0.00514,
     "end_time": "2023-09-05T17:53:46.499650",
     "exception": false,
     "start_time": "2023-09-05T17:53:46.494510",
     "status": "completed"
    },
    "tags": []
   },
   "source": [
    "1.  to add, subtract, multiply, divide arguments element-wise"
   ]
  },
  {
   "cell_type": "code",
   "execution_count": 2,
   "id": "95d0a9e9",
   "metadata": {
    "execution": {
     "iopub.execute_input": "2023-09-05T17:53:46.512974Z",
     "iopub.status.busy": "2023-09-05T17:53:46.512503Z",
     "iopub.status.idle": "2023-09-05T17:53:46.523586Z",
     "shell.execute_reply": "2023-09-05T17:53:46.522797Z"
    },
    "papermill": {
     "duration": 0.020847,
     "end_time": "2023-09-05T17:53:46.526092",
     "exception": false,
     "start_time": "2023-09-05T17:53:46.505245",
     "status": "completed"
    },
    "tags": []
   },
   "outputs": [
    {
     "name": "stdout",
     "output_type": "stream",
     "text": [
      "[1 2 3 4]\n",
      "a+10 =  [11 12 13 14]\n",
      "a-1 =  [0 1 2 3]\n",
      "a*10 =  [10 20 30 40]\n",
      "a/10 =  [0.1 0.2 0.3 0.4]\n",
      "a**2 =  [ 1  4  9 16]\n",
      "a%2 =  [1 0 1 0]\n"
     ]
    }
   ],
   "source": [
    "a=np.arange(1,5)\n",
    "print(a)\n",
    "print(\"a+10 = \",a+10)\n",
    "print(\"a-1 = \",a-1)\n",
    "print(\"a*10 = \",a*10)\n",
    "print(\"a/10 = \",a/10)\n",
    "print(\"a**2 = \",a**2)\n",
    "print(\"a%2 = \",a%2)"
   ]
  },
  {
   "cell_type": "markdown",
   "id": "e7b0aafc",
   "metadata": {
    "papermill": {
     "duration": 0.005311,
     "end_time": "2023-09-05T17:53:46.537139",
     "exception": false,
     "start_time": "2023-09-05T17:53:46.531828",
     "status": "completed"
    },
    "tags": []
   },
   "source": [
    "2. to round elements of the array to the nearest integer"
   ]
  },
  {
   "cell_type": "code",
   "execution_count": 3,
   "id": "5d43f575",
   "metadata": {
    "execution": {
     "iopub.execute_input": "2023-09-05T17:53:46.550541Z",
     "iopub.status.busy": "2023-09-05T17:53:46.549888Z",
     "iopub.status.idle": "2023-09-05T17:53:46.558985Z",
     "shell.execute_reply": "2023-09-05T17:53:46.557784Z"
    },
    "papermill": {
     "duration": 0.019028,
     "end_time": "2023-09-05T17:53:46.561690",
     "exception": false,
     "start_time": "2023-09-05T17:53:46.542662",
     "status": "completed"
    },
    "tags": []
   },
   "outputs": [
    {
     "data": {
      "text/plain": [
       "array([0., 1., 2., 3., 3., 4.])"
      ]
     },
     "execution_count": 3,
     "metadata": {},
     "output_type": "execute_result"
    }
   ],
   "source": [
    "f_arr=np.array([0.3,0.8,1.5,2.6,3.2,4.5])\n",
    "np.round(f_arr)"
   ]
  },
  {
   "cell_type": "markdown",
   "id": "be9e5ab7",
   "metadata": {
    "papermill": {
     "duration": 0.005645,
     "end_time": "2023-09-05T17:53:46.573350",
     "exception": false,
     "start_time": "2023-09-05T17:53:46.567705",
     "status": "completed"
    },
    "tags": []
   },
   "source": [
    "3. to calculate mean across dimension, in a 2D numpy array"
   ]
  },
  {
   "cell_type": "code",
   "execution_count": 4,
   "id": "ae895096",
   "metadata": {
    "execution": {
     "iopub.execute_input": "2023-09-05T17:53:46.587293Z",
     "iopub.status.busy": "2023-09-05T17:53:46.586892Z",
     "iopub.status.idle": "2023-09-05T17:53:46.594254Z",
     "shell.execute_reply": "2023-09-05T17:53:46.593475Z"
    },
    "papermill": {
     "duration": 0.016886,
     "end_time": "2023-09-05T17:53:46.596645",
     "exception": false,
     "start_time": "2023-09-05T17:53:46.579759",
     "status": "completed"
    },
    "tags": []
   },
   "outputs": [
    {
     "name": "stdout",
     "output_type": "stream",
     "text": [
      "[[1 2 3]\n",
      " [4 5 6]]\n",
      "mean across rows =  [2. 5.]\n",
      "mean across columns =  [2.5 3.5 4.5]\n"
     ]
    }
   ],
   "source": [
    "a=np.arange(1,7).reshape(2,3)\n",
    "print(a)\n",
    "\n",
    "# mean across rows (axis=1)\n",
    "r_mean=np.mean(a,axis=1)\n",
    "print(\"mean across rows = \",r_mean)\n",
    "\n",
    "# mean across columns (axis=0)\n",
    "c_mean=np.mean(a,axis=0)\n",
    "print(\"mean across columns = \",c_mean)"
   ]
  },
  {
   "cell_type": "markdown",
   "id": "f3ca88e9",
   "metadata": {
    "papermill": {
     "duration": 0.006105,
     "end_time": "2023-09-05T17:53:46.608952",
     "exception": false,
     "start_time": "2023-09-05T17:53:46.602847",
     "status": "completed"
    },
    "tags": []
   },
   "source": [
    "4. to calculate the difference between neighboring elements, element wise of a given array"
   ]
  },
  {
   "cell_type": "code",
   "execution_count": 5,
   "id": "75331ac2",
   "metadata": {
    "execution": {
     "iopub.execute_input": "2023-09-05T17:53:46.623456Z",
     "iopub.status.busy": "2023-09-05T17:53:46.622268Z",
     "iopub.status.idle": "2023-09-05T17:53:46.629540Z",
     "shell.execute_reply": "2023-09-05T17:53:46.628215Z"
    },
    "papermill": {
     "duration": 0.017264,
     "end_time": "2023-09-05T17:53:46.632164",
     "exception": false,
     "start_time": "2023-09-05T17:53:46.614900",
     "status": "completed"
    },
    "tags": []
   },
   "outputs": [
    {
     "name": "stdout",
     "output_type": "stream",
     "text": [
      "Original Array =  [ 1  3  6  9 13]\n",
      "Difference between elements =  [2 3 3 4]\n"
     ]
    }
   ],
   "source": [
    "arr=np.array([1,3,6,9,13])\n",
    "print(\"Original Array = \",arr)\n",
    "\n",
    "diff=np.diff(arr)\n",
    "print(\"Difference between elements = \",diff)"
   ]
  }
 ],
 "kernelspec": {
  "display_name": "Python 3",
  "language": "python",
  "name": "python3"
 },
 "language_info": {
  "codemirror_mode": {
   "name": "ipython",
   "version": 3
  },
  "file_extension": ".py",
  "mimetype": "text/x-python",
  "name": "python",
  "nbconvert_exporter": "python",
  "pygments_lexer": "ipython3",
  "version": "3.6.4"
 },
 "metadata": {
  "kernelspec": {
   "display_name": "Python 3",
   "language": "python",
   "name": "python3"
  },
  "language_info": {
   "codemirror_mode": {
    "name": "ipython",
    "version": 3
   },
   "file_extension": ".py",
   "mimetype": "text/x-python",
   "name": "python",
   "nbconvert_exporter": "python",
   "pygments_lexer": "ipython3",
   "version": "3.10.12"
  },
  "papermill": {
   "default_parameters": {},
   "duration": 5.58325,
   "end_time": "2023-09-05T17:53:47.059307",
   "environment_variables": {},
   "exception": null,
   "input_path": "__notebook__.ipynb",
   "output_path": "__notebook__.ipynb",
   "parameters": {},
   "start_time": "2023-09-05T17:53:41.476057",
   "version": "2.4.0"
  }
 },
 "nbformat": 4,
 "nbformat_minor": 5
}
